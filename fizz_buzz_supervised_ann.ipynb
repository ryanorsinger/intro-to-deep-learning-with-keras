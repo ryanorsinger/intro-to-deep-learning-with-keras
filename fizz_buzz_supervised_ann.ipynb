{
 "cells": [
  {
   "cell_type": "markdown",
   "metadata": {},
   "source": [
    "# Solving FizzBuzz with Keras"
   ]
  },
  {
   "cell_type": "markdown",
   "metadata": {},
   "source": [
    "## Overview\n",
    "- This notebook provides an example Keras network to solve FizzBuzz.\n",
    "- This is a supervised classification problem, so we'll train our model on labeled data.\n",
    "\n",
    "<img src=\"https://camo.githubusercontent.com/fedd5d66bea57a430635498de58dc7c6f064f280/68747470733a2f2f64707a6268796262327064636a2e636c6f756466726f6e742e6e65742f63686f6c6c65742f466967757265732f303166696730322e6a7067\">"
   ]
  },
  {
   "cell_type": "markdown",
   "metadata": {},
   "source": [
    "## What is FizzBuzz?\n",
    "FizzBuzz is a common programming interview problem. Here's the setup.\n",
    "- Write a program that outputs all the integers from 1 to 100.\n",
    "- If the number is a multpile of 3, then output the string \"Fizz\"\n",
    "- If the number is a multiple of 5, then output the string \"Buzz\"\n",
    "- If the number is a multiple of 15, output the string \"FizzBuzz\"\n",
    "- For any other number, output that, number itself."
   ]
  },
  {
   "cell_type": "code",
   "execution_count": 1,
   "metadata": {},
   "outputs": [
    {
     "name": "stderr",
     "output_type": "stream",
     "text": [
      "Using TensorFlow backend.\n"
     ]
    }
   ],
   "source": [
    "import warnings\n",
    "warnings.filterwarnings('ignore')\n",
    "\n",
    "# imports\n",
    "import numpy as np\n",
    "from keras.models import Sequential\n",
    "from keras.layers import Dense\n",
    "from keras.utils import np_utils\n",
    "from keras.models import Model"
   ]
  },
  {
   "cell_type": "code",
   "execution_count": 2,
   "metadata": {},
   "outputs": [],
   "source": [
    "# Specify the number of binary digits. \n",
    "NUM_DIGITS = 10"
   ]
  },
  {
   "cell_type": "code",
   "execution_count": 3,
   "metadata": {},
   "outputs": [],
   "source": [
    "## Setup the training data for 101-1024. 1024 is the highest number countable with 10 binary digits\n",
    "raw_training_data = np.array(range(101, 2**NUM_DIGITS))"
   ]
  },
  {
   "cell_type": "code",
   "execution_count": 4,
   "metadata": {},
   "outputs": [
    {
     "data": {
      "text/plain": [
       "array([101, 102, 103, 104, 105, 106, 107, 108, 109, 110, 111, 112, 113,\n",
       "       114, 115, 116, 117, 118, 119, 120])"
      ]
     },
     "execution_count": 4,
     "metadata": {},
     "output_type": "execute_result"
    }
   ],
   "source": [
    "## This is a numpy array of integers.\n",
    "raw_training_data[0:20]"
   ]
  },
  {
   "cell_type": "code",
   "execution_count": 5,
   "metadata": {},
   "outputs": [],
   "source": [
    "# We need to binary encode our inputs\n",
    "def binary_encode(i, NUM_DIGITS):\n",
    "    return np.array([i >> d & 1 for d in range(NUM_DIGITS)])"
   ]
  },
  {
   "cell_type": "code",
   "execution_count": 6,
   "metadata": {},
   "outputs": [
    {
     "name": "stdout",
     "output_type": "stream",
     "text": [
      "1 [1 0 0 0 0 0 0 0 0 0]\n",
      "2 [0 1 0 0 0 0 0 0 0 0]\n",
      "3 [1 1 0 0 0 0 0 0 0 0]\n",
      "4 [0 0 1 0 0 0 0 0 0 0]\n"
     ]
    }
   ],
   "source": [
    "print(1, binary_encode(1, NUM_DIGITS))\n",
    "print(2, binary_encode(2, NUM_DIGITS))\n",
    "print(3, binary_encode(3, NUM_DIGITS))\n",
    "print(4, binary_encode(4, NUM_DIGITS))\n"
   ]
  },
  {
   "cell_type": "code",
   "execution_count": 7,
   "metadata": {},
   "outputs": [
    {
     "data": {
      "text/plain": [
       "array([1, 1, 0, 0, 0, 0, 0, 0, 0, 0])"
      ]
     },
     "execution_count": 7,
     "metadata": {},
     "output_type": "execute_result"
    }
   ],
   "source": [
    "binary_encode(3, NUM_DIGITS)"
   ]
  },
  {
   "cell_type": "code",
   "execution_count": null,
   "metadata": {},
   "outputs": [],
   "source": []
  },
  {
   "cell_type": "code",
   "execution_count": 8,
   "metadata": {},
   "outputs": [
    {
     "name": "stdout",
     "output_type": "stream",
     "text": [
      "256 [0 0 0 0 0 0 0 0 1 0]\n",
      "512 [0 0 0 0 0 0 0 0 0 1]\n",
      "1023 [1 1 1 1 1 1 1 1 1 1]\n"
     ]
    }
   ],
   "source": [
    "print(256, binary_encode(256, NUM_DIGITS))\n",
    "print(512, binary_encode(512, NUM_DIGITS))\n",
    "print(1023, binary_encode(1023, NUM_DIGITS))"
   ]
  },
  {
   "cell_type": "code",
   "execution_count": 9,
   "metadata": {},
   "outputs": [],
   "source": [
    "encoded_training_data = [binary_encode(i, NUM_DIGITS) for i in raw_training_data]"
   ]
  },
  {
   "cell_type": "code",
   "execution_count": 10,
   "metadata": {},
   "outputs": [
    {
     "data": {
      "text/plain": [
       "array([1, 0, 1, 0, 0, 1, 1, 0, 0, 0])"
      ]
     },
     "execution_count": 10,
     "metadata": {},
     "output_type": "execute_result"
    }
   ],
   "source": [
    "x_train = np.array(encoded_training_data)\n",
    "x_train[0]"
   ]
  },
  {
   "cell_type": "code",
   "execution_count": null,
   "metadata": {},
   "outputs": [],
   "source": []
  },
  {
   "cell_type": "code",
   "execution_count": 11,
   "metadata": {},
   "outputs": [],
   "source": [
    "# List out the state space. What are the different states that the data could be in:\n",
    "# there's only 4 options/states in the FizzBuzz setup\n",
    "# A number is a multiple of 3 and 5, only 3, only 5, or it ain't\n",
    "# Now we'll need to one hot encode the training data for y\n",
    "def fizz_buzz_encode(i):\n",
    "    if i % 15 == 0:\n",
    "        return np.array([0, 0, 0, 1]) # encoding for \"fizzbuzz\"\n",
    "    elif i % 5 == 0: \n",
    "        return np.array([0, 0, 1, 0]) # encoding for \"buzz\"\n",
    "    elif i % 3  == 0: \n",
    "        return np.array([0, 1, 0, 0]) # encoding for \"fizz\"\n",
    "    else:\n",
    "        return np.array([1, 0, 0, 0]) # encoding for the number output"
   ]
  },
  {
   "cell_type": "code",
   "execution_count": 12,
   "metadata": {},
   "outputs": [
    {
     "name": "stdout",
     "output_type": "stream",
     "text": [
      "Return only the number [1 0 0 0]\n",
      "Multiple of 3 [0 1 0 0]\n",
      "Multiple of 5 [0 0 1 0]\n",
      "Return only the number [1 0 0 0]\n",
      "Multiple of both 3 and 5 [0 0 0 1]\n"
     ]
    }
   ],
   "source": [
    "print(\"Return only the number\", fizz_buzz_encode(1))\n",
    "print(\"Multiple of 3\", fizz_buzz_encode(3))\n",
    "print(\"Multiple of 5\", fizz_buzz_encode(5))\n",
    "print(\"Return only the number\", fizz_buzz_encode(7))\n",
    "print(\"Multiple of both 3 and 5\", fizz_buzz_encode(15))"
   ]
  },
  {
   "cell_type": "code",
   "execution_count": 13,
   "metadata": {
    "scrolled": true
   },
   "outputs": [
    {
     "data": {
      "text/plain": [
       "array([[1, 0, 0, 0],\n",
       "       [0, 1, 0, 0],\n",
       "       [1, 0, 0, 0],\n",
       "       ...,\n",
       "       [1, 0, 0, 0],\n",
       "       [1, 0, 0, 0],\n",
       "       [0, 1, 0, 0]])"
      ]
     },
     "execution_count": 13,
     "metadata": {},
     "output_type": "execute_result"
    }
   ],
   "source": [
    "# y_train is the encoded output. \n",
    "# This is our \"labeled data\" for supervised learning\n",
    "y_train = np.array([fizz_buzz_encode(i) for i in range(101, 2 ** NUM_DIGITS)])\n",
    "y_train"
   ]
  },
  {
   "cell_type": "code",
   "execution_count": 14,
   "metadata": {},
   "outputs": [
    {
     "name": "stdout",
     "output_type": "stream",
     "text": [
      "WARNING:tensorflow:From /usr/local/anaconda3/lib/python3.7/site-packages/keras/backend/tensorflow_backend.py:74: The name tf.get_default_graph is deprecated. Please use tf.compat.v1.get_default_graph instead.\n",
      "\n"
     ]
    }
   ],
   "source": [
    "# Now let's build our model, add layers, compile, and fit it!\n",
    "model = Sequential()"
   ]
  },
  {
   "cell_type": "code",
   "execution_count": 15,
   "metadata": {},
   "outputs": [
    {
     "name": "stdout",
     "output_type": "stream",
     "text": [
      "WARNING:tensorflow:From /usr/local/anaconda3/lib/python3.7/site-packages/keras/backend/tensorflow_backend.py:517: The name tf.placeholder is deprecated. Please use tf.compat.v1.placeholder instead.\n",
      "\n",
      "WARNING:tensorflow:From /usr/local/anaconda3/lib/python3.7/site-packages/keras/backend/tensorflow_backend.py:4138: The name tf.random_uniform is deprecated. Please use tf.random.uniform instead.\n",
      "\n"
     ]
    }
   ],
   "source": [
    "## Add the model's layers. \n",
    "model.add(Dense(1000, input_dim=NUM_DIGITS, activation=\"relu\"))\n",
    "model.add(Dense(1000, activation=\"relu\"))\n",
    "model.add(Dense(4, activation=\"softmax\"))"
   ]
  },
  {
   "cell_type": "code",
   "execution_count": 16,
   "metadata": {},
   "outputs": [
    {
     "name": "stdout",
     "output_type": "stream",
     "text": [
      "WARNING:tensorflow:From /usr/local/anaconda3/lib/python3.7/site-packages/keras/optimizers.py:790: The name tf.train.Optimizer is deprecated. Please use tf.compat.v1.train.Optimizer instead.\n",
      "\n",
      "WARNING:tensorflow:From /usr/local/anaconda3/lib/python3.7/site-packages/keras/backend/tensorflow_backend.py:3295: The name tf.log is deprecated. Please use tf.math.log instead.\n",
      "\n"
     ]
    }
   ],
   "source": [
    "model.compile(loss='categorical_crossentropy', optimizer='adagrad', metrics=[\"accuracy\"])"
   ]
  },
  {
   "cell_type": "code",
   "execution_count": 17,
   "metadata": {},
   "outputs": [
    {
     "name": "stdout",
     "output_type": "stream",
     "text": [
      "WARNING:tensorflow:From /usr/local/anaconda3/lib/python3.7/site-packages/tensorflow/python/ops/math_grad.py:1250: add_dispatch_support.<locals>.wrapper (from tensorflow.python.ops.array_ops) is deprecated and will be removed in a future version.\n",
      "Instructions for updating:\n",
      "Use tf.where in 2.0, which has the same broadcast rule as np.where\n",
      "WARNING:tensorflow:From /usr/local/anaconda3/lib/python3.7/site-packages/keras/backend/tensorflow_backend.py:986: The name tf.assign_add is deprecated. Please use tf.compat.v1.assign_add instead.\n",
      "\n",
      "Epoch 1/100\n",
      "923/923 [==============================] - 1s 1ms/step - loss: 1.8069 - acc: 0.4366\n",
      "Epoch 2/100\n",
      "923/923 [==============================] - 0s 170us/step - loss: 1.1507 - acc: 0.5341\n",
      "Epoch 3/100\n",
      "923/923 [==============================] - 0s 166us/step - loss: 1.1412 - acc: 0.5341\n",
      "Epoch 4/100\n",
      "923/923 [==============================] - 0s 200us/step - loss: 1.1374 - acc: 0.5341\n",
      "Epoch 5/100\n",
      "923/923 [==============================] - 0s 176us/step - loss: 1.1351 - acc: 0.5341\n",
      "Epoch 6/100\n",
      "923/923 [==============================] - 0s 161us/step - loss: 1.1259 - acc: 0.5341\n",
      "Epoch 7/100\n",
      "923/923 [==============================] - 0s 164us/step - loss: 1.1141 - acc: 0.5341\n",
      "Epoch 8/100\n",
      "923/923 [==============================] - 0s 184us/step - loss: 1.1039 - acc: 0.5352\n",
      "Epoch 9/100\n",
      "923/923 [==============================] - 0s 194us/step - loss: 1.0870 - acc: 0.5341\n",
      "Epoch 10/100\n",
      "923/923 [==============================] - 0s 198us/step - loss: 1.0731 - acc: 0.5363\n",
      "Epoch 11/100\n",
      "923/923 [==============================] - 0s 187us/step - loss: 1.0594 - acc: 0.5320\n",
      "Epoch 12/100\n",
      "923/923 [==============================] - 0s 182us/step - loss: 1.0434 - acc: 0.5352\n",
      "Epoch 13/100\n",
      "923/923 [==============================] - 0s 178us/step - loss: 1.0226 - acc: 0.5395\n",
      "Epoch 14/100\n",
      "923/923 [==============================] - 0s 189us/step - loss: 1.0024 - acc: 0.5504\n",
      "Epoch 15/100\n",
      "923/923 [==============================] - 0s 195us/step - loss: 0.9809 - acc: 0.5504\n",
      "Epoch 16/100\n",
      "923/923 [==============================] - 0s 163us/step - loss: 0.9515 - acc: 0.5569\n",
      "Epoch 17/100\n",
      "923/923 [==============================] - 0s 156us/step - loss: 0.9343 - acc: 0.5742\n",
      "Epoch 18/100\n",
      "923/923 [==============================] - 0s 161us/step - loss: 0.8952 - acc: 0.5710\n",
      "Epoch 19/100\n",
      "923/923 [==============================] - 0s 157us/step - loss: 0.8696 - acc: 0.6035\n",
      "Epoch 20/100\n",
      "923/923 [==============================] - 0s 162us/step - loss: 0.8438 - acc: 0.6013\n",
      "Epoch 21/100\n",
      "923/923 [==============================] - 0s 151us/step - loss: 0.8039 - acc: 0.6522\n",
      "Epoch 22/100\n",
      "923/923 [==============================] - 0s 153us/step - loss: 0.7788 - acc: 0.6533\n",
      "Epoch 23/100\n",
      "923/923 [==============================] - 0s 145us/step - loss: 0.7498 - acc: 0.6966\n",
      "Epoch 24/100\n",
      "923/923 [==============================] - 0s 167us/step - loss: 0.7138 - acc: 0.7259\n",
      "Epoch 25/100\n",
      "923/923 [==============================] - 0s 166us/step - loss: 0.6779 - acc: 0.7291\n",
      "Epoch 26/100\n",
      "923/923 [==============================] - 0s 168us/step - loss: 0.6488 - acc: 0.7692\n",
      "Epoch 27/100\n",
      "923/923 [==============================] - 0s 152us/step - loss: 0.6386 - acc: 0.7595\n",
      "Epoch 28/100\n",
      "923/923 [==============================] - 0s 148us/step - loss: 0.6042 - acc: 0.7898\n",
      "Epoch 29/100\n",
      "923/923 [==============================] - 0s 147us/step - loss: 0.5778 - acc: 0.8028\n",
      "Epoch 30/100\n",
      "923/923 [==============================] - 0s 151us/step - loss: 0.5227 - acc: 0.8451\n",
      "Epoch 31/100\n",
      "923/923 [==============================] - 0s 156us/step - loss: 0.4859 - acc: 0.8711\n",
      "Epoch 32/100\n",
      "923/923 [==============================] - 0s 160us/step - loss: 0.4661 - acc: 0.8754\n",
      "Epoch 33/100\n",
      "923/923 [==============================] - 0s 157us/step - loss: 0.4298 - acc: 0.8949\n",
      "Epoch 34/100\n",
      "923/923 [==============================] - 0s 145us/step - loss: 0.4181 - acc: 0.8895\n",
      "Epoch 35/100\n",
      "923/923 [==============================] - 0s 142us/step - loss: 0.3822 - acc: 0.9231\n",
      "Epoch 36/100\n",
      "923/923 [==============================] - 0s 145us/step - loss: 0.3558 - acc: 0.9480\n",
      "Epoch 37/100\n",
      "923/923 [==============================] - 0s 145us/step - loss: 0.3380 - acc: 0.9577\n",
      "Epoch 38/100\n",
      "923/923 [==============================] - 0s 141us/step - loss: 0.3265 - acc: 0.9447\n",
      "Epoch 39/100\n",
      "923/923 [==============================] - 0s 143us/step - loss: 0.2820 - acc: 0.9740\n",
      "Epoch 40/100\n",
      "923/923 [==============================] - 0s 138us/step - loss: 0.2638 - acc: 0.9751\n",
      "Epoch 41/100\n",
      "923/923 [==============================] - 0s 138us/step - loss: 0.2772 - acc: 0.9621\n",
      "Epoch 42/100\n",
      "923/923 [==============================] - 0s 137us/step - loss: 0.2376 - acc: 0.9816\n",
      "Epoch 43/100\n",
      "923/923 [==============================] - 0s 140us/step - loss: 0.2152 - acc: 0.9870\n",
      "Epoch 44/100\n",
      "923/923 [==============================] - 0s 138us/step - loss: 0.2071 - acc: 0.9827\n",
      "Epoch 45/100\n",
      "923/923 [==============================] - 0s 138us/step - loss: 0.1922 - acc: 0.9902\n",
      "Epoch 46/100\n",
      "923/923 [==============================] - 0s 140us/step - loss: 0.2053 - acc: 0.9794\n",
      "Epoch 47/100\n",
      "923/923 [==============================] - 0s 147us/step - loss: 0.1669 - acc: 0.9902 0s - loss: 0.1663 - acc: 0.99\n",
      "Epoch 48/100\n",
      "923/923 [==============================] - 0s 140us/step - loss: 0.1591 - acc: 0.9881\n",
      "Epoch 49/100\n",
      "923/923 [==============================] - 0s 143us/step - loss: 0.1491 - acc: 0.9902\n",
      "Epoch 50/100\n",
      "923/923 [==============================] - 0s 138us/step - loss: 0.1462 - acc: 0.9902\n",
      "Epoch 51/100\n",
      "923/923 [==============================] - 0s 142us/step - loss: 0.1364 - acc: 0.9913\n",
      "Epoch 52/100\n",
      "923/923 [==============================] - 0s 141us/step - loss: 0.1257 - acc: 0.9935\n",
      "Epoch 53/100\n",
      "923/923 [==============================] - 0s 157us/step - loss: 0.1187 - acc: 0.9935\n",
      "Epoch 54/100\n",
      "923/923 [==============================] - 0s 167us/step - loss: 0.1137 - acc: 0.9935\n",
      "Epoch 55/100\n",
      "923/923 [==============================] - 0s 220us/step - loss: 0.1058 - acc: 0.9946\n",
      "Epoch 56/100\n",
      "923/923 [==============================] - 0s 194us/step - loss: 0.1060 - acc: 0.9946\n",
      "Epoch 57/100\n",
      "923/923 [==============================] - 0s 189us/step - loss: 0.0981 - acc: 0.9957\n",
      "Epoch 58/100\n",
      "923/923 [==============================] - 0s 181us/step - loss: 0.0931 - acc: 0.9957\n",
      "Epoch 59/100\n",
      "923/923 [==============================] - 0s 217us/step - loss: 0.0883 - acc: 0.9957\n",
      "Epoch 60/100\n",
      "923/923 [==============================] - 0s 243us/step - loss: 0.0851 - acc: 0.9957\n",
      "Epoch 61/100\n",
      "923/923 [==============================] - 0s 343us/step - loss: 0.0826 - acc: 0.9957\n",
      "Epoch 62/100\n",
      "923/923 [==============================] - 0s 317us/step - loss: 0.0803 - acc: 0.9957\n",
      "Epoch 63/100\n",
      "923/923 [==============================] - 0s 347us/step - loss: 0.0727 - acc: 0.9957\n",
      "Epoch 64/100\n",
      "923/923 [==============================] - 0s 415us/step - loss: 0.0690 - acc: 0.9978\n",
      "Epoch 65/100\n",
      "923/923 [==============================] - 0s 287us/step - loss: 0.0683 - acc: 0.9978\n",
      "Epoch 66/100\n",
      "923/923 [==============================] - 0s 225us/step - loss: 0.0644 - acc: 0.9989\n",
      "Epoch 67/100\n",
      "923/923 [==============================] - 0s 260us/step - loss: 0.0604 - acc: 0.9989\n",
      "Epoch 68/100\n",
      "923/923 [==============================] - 0s 451us/step - loss: 0.0589 - acc: 0.9978\n",
      "Epoch 69/100\n",
      "923/923 [==============================] - 0s 438us/step - loss: 0.0570 - acc: 0.9989\n",
      "Epoch 70/100\n",
      "923/923 [==============================] - 0s 312us/step - loss: 0.0545 - acc: 0.9978\n",
      "Epoch 71/100\n",
      "923/923 [==============================] - 0s 305us/step - loss: 0.0523 - acc: 0.9989\n",
      "Epoch 72/100\n",
      "923/923 [==============================] - 0s 327us/step - loss: 0.0533 - acc: 0.9989\n",
      "Epoch 73/100\n",
      "923/923 [==============================] - 0s 450us/step - loss: 0.0496 - acc: 0.9989\n",
      "Epoch 74/100\n",
      "923/923 [==============================] - 0s 365us/step - loss: 0.0471 - acc: 0.9978\n",
      "Epoch 75/100\n",
      "923/923 [==============================] - 0s 430us/step - loss: 0.0467 - acc: 0.9989\n",
      "Epoch 76/100\n",
      "923/923 [==============================] - 0s 331us/step - loss: 0.0439 - acc: 0.9989\n",
      "Epoch 77/100\n",
      "923/923 [==============================] - 0s 316us/step - loss: 0.0452 - acc: 0.9989\n",
      "Epoch 78/100\n"
     ]
    },
    {
     "name": "stdout",
     "output_type": "stream",
     "text": [
      "923/923 [==============================] - 0s 346us/step - loss: 0.0409 - acc: 0.9989\n",
      "Epoch 79/100\n",
      "923/923 [==============================] - 0s 346us/step - loss: 0.0389 - acc: 0.9989\n",
      "Epoch 80/100\n",
      "923/923 [==============================] - 0s 370us/step - loss: 0.0388 - acc: 0.9989\n",
      "Epoch 81/100\n",
      "923/923 [==============================] - 0s 464us/step - loss: 0.0373 - acc: 0.9989\n",
      "Epoch 82/100\n",
      "923/923 [==============================] - 0s 324us/step - loss: 0.0391 - acc: 0.9989\n",
      "Epoch 83/100\n",
      "923/923 [==============================] - 0s 298us/step - loss: 0.0401 - acc: 1.0000\n",
      "Epoch 84/100\n",
      "923/923 [==============================] - 0s 289us/step - loss: 0.0343 - acc: 1.0000\n",
      "Epoch 85/100\n",
      "923/923 [==============================] - 0s 373us/step - loss: 0.0323 - acc: 1.0000\n",
      "Epoch 86/100\n",
      "923/923 [==============================] - 0s 276us/step - loss: 0.0321 - acc: 1.0000\n",
      "Epoch 87/100\n",
      "923/923 [==============================] - 0s 211us/step - loss: 0.0304 - acc: 0.9989\n",
      "Epoch 88/100\n",
      "923/923 [==============================] - 0s 207us/step - loss: 0.0302 - acc: 1.0000\n",
      "Epoch 89/100\n",
      "923/923 [==============================] - 0s 292us/step - loss: 0.0289 - acc: 1.0000\n",
      "Epoch 90/100\n",
      "923/923 [==============================] - 0s 360us/step - loss: 0.0284 - acc: 1.0000\n",
      "Epoch 91/100\n",
      "923/923 [==============================] - 0s 240us/step - loss: 0.0272 - acc: 1.0000\n",
      "Epoch 92/100\n",
      "923/923 [==============================] - 0s 200us/step - loss: 0.0264 - acc: 1.0000\n",
      "Epoch 93/100\n",
      "923/923 [==============================] - 0s 196us/step - loss: 0.0259 - acc: 1.0000\n",
      "Epoch 94/100\n",
      "923/923 [==============================] - 0s 190us/step - loss: 0.0250 - acc: 1.0000\n",
      "Epoch 95/100\n",
      "923/923 [==============================] - 0s 169us/step - loss: 0.0248 - acc: 1.0000\n",
      "Epoch 96/100\n",
      "923/923 [==============================] - 0s 176us/step - loss: 0.0238 - acc: 1.0000\n",
      "Epoch 97/100\n",
      "923/923 [==============================] - 0s 163us/step - loss: 0.0233 - acc: 1.0000\n",
      "Epoch 98/100\n",
      "923/923 [==============================] - 0s 156us/step - loss: 0.0226 - acc: 1.0000\n",
      "Epoch 99/100\n",
      "923/923 [==============================] - 0s 148us/step - loss: 0.0224 - acc: 1.0000\n",
      "Epoch 100/100\n",
      "923/923 [==============================] - 0s 150us/step - loss: 0.0238 - acc: 1.0000\n"
     ]
    },
    {
     "data": {
      "text/plain": [
       "<keras.callbacks.History at 0x646432860>"
      ]
     },
     "execution_count": 17,
     "metadata": {},
     "output_type": "execute_result"
    }
   ],
   "source": [
    "model.fit(x_train, y_train, nb_epoch=100, batch_size=128)"
   ]
  },
  {
   "cell_type": "markdown",
   "metadata": {},
   "source": []
  },
  {
   "cell_type": "code",
   "execution_count": 18,
   "metadata": {},
   "outputs": [],
   "source": [
    "# convert fizzbuzz to binary\n",
    "def fizz_buzz(i, prediction):\n",
    "    return [str(i), \"fizz\", \"buzz\", \"fizzbuzz\"][prediction]\n"
   ]
  },
  {
   "cell_type": "code",
   "execution_count": 19,
   "metadata": {},
   "outputs": [],
   "source": [
    "# Setup x_test  fizzbuzz for prime numbers from 1 to 100\n",
    "numbers = np.arange(1, 101)\n",
    "x_test = np.transpose(binary_encode(numbers, NUM_DIGITS))\n",
    "y_test = model.predict_classes(x_test)"
   ]
  },
  {
   "cell_type": "code",
   "execution_count": 20,
   "metadata": {},
   "outputs": [
    {
     "name": "stdout",
     "output_type": "stream",
     "text": [
      "['1' '2' 'fizz' '4' 'buzz' 'fizz' '7' '8' 'fizz' 'buzz' '11' 'fizz' '13'\n",
      " '14' 'fizzbuzz' '16' '17' 'fizz' '19' '20' 'fizz' '22' '23' 'fizz' 'buzz'\n",
      " '26' 'fizz' '28' '29' 'fizzbuzz' '31' '32' 'fizz' '34' 'buzz' 'fizz' '37'\n",
      " '38' 'fizz' 'buzz' '41' 'fizz' '43' '44' 'fizzbuzz' '46' '47' 'fizz' '49'\n",
      " 'buzz' 'fizz' '52' '53' 'fizz' 'buzz' '56' 'fizz' '58' '59' 'fizzbuzz'\n",
      " '61' '62' 'fizz' '64' 'buzz' 'fizz' '67' '68' 'fizz' 'buzz' '71' 'fizz'\n",
      " '73' '74' 'fizzbuzz' '76' '77' 'fizz' '79' 'buzz' 'fizz' '82' '83' 'fizz'\n",
      " 'buzz' '86' 'fizz' '88' '89' 'fizzbuzz' '91' '92' 'fizz' '94' 'buzz'\n",
      " 'fizz' '97' '98' 'fizz' '100']\n"
     ]
    }
   ],
   "source": [
    "# Setup predicted output\n",
    "predictions = np.vectorize(fizz_buzz)(numbers, y_test)\n",
    "print (predictions)"
   ]
  },
  {
   "cell_type": "code",
   "execution_count": 21,
   "metadata": {},
   "outputs": [
    {
     "name": "stdout",
     "output_type": "stream",
     "text": [
      "['1' '2' 'fizz' '4' 'buzz' 'fizz' '7' '8' 'fizz' 'buzz' '11' 'fizz' '13'\n",
      " '14' 'fizzbuzz' '16' '17' 'fizz' '19' 'buzz' 'fizz' '22' '23' 'fizz'\n",
      " 'buzz' '26' 'fizz' '28' '29' 'fizzbuzz' '31' '32' 'fizz' '34' 'buzz'\n",
      " 'fizz' '37' '38' 'fizz' 'buzz' '41' 'fizz' '43' '44' 'fizzbuzz' '46' '47'\n",
      " 'fizz' '49' 'buzz' 'fizz' '52' '53' 'fizz' 'buzz' '56' 'fizz' '58' '59'\n",
      " 'fizzbuzz' '61' '62' 'fizz' '64' 'buzz' 'fizz' '67' '68' 'fizz' 'buzz'\n",
      " '71' 'fizz' '73' '74' 'fizzbuzz' '76' '77' 'fizz' '79' 'buzz' 'fizz' '82'\n",
      " '83' 'fizz' 'buzz' '86' 'fizz' '88' '89' 'fizzbuzz' '91' '92' 'fizz' '94'\n",
      " 'buzz' 'fizz' '97' '98' 'fizz' 'buzz']\n"
     ]
    }
   ],
   "source": [
    "# correct answers for fizzbuzz on 1-100, these are our actual values\n",
    "answer = np.array([])\n",
    "for i in numbers:\n",
    "    if i % 15 == 0: \n",
    "        answer = np.append(answer, \"fizzbuzz\")\n",
    "    elif i % 5 == 0: \n",
    "        answer = np.append(answer, \"buzz\")\n",
    "    elif i % 3 == 0: \n",
    "        answer = np.append(answer, \"fizz\")\n",
    "    else: answer = np.append(answer, str(i))\n",
    "print (answer)"
   ]
  },
  {
   "cell_type": "code",
   "execution_count": 22,
   "metadata": {},
   "outputs": [
    {
     "name": "stdout",
     "output_type": "stream",
     "text": [
      "0.98\n"
     ]
    }
   ],
   "source": [
    "# Let's evaluate the model's predictions\n",
    "evaluate = np.array(answer == predictions)\n",
    "print (np.count_nonzero(evaluate == True) / 100)"
   ]
  },
  {
   "cell_type": "code",
   "execution_count": 23,
   "metadata": {},
   "outputs": [
    {
     "data": {
      "text/plain": [
       "array([ True,  True,  True,  True,  True,  True,  True,  True,  True,\n",
       "        True,  True,  True,  True,  True,  True,  True,  True,  True,\n",
       "        True, False,  True,  True,  True,  True,  True,  True,  True,\n",
       "        True,  True,  True,  True,  True,  True,  True,  True,  True,\n",
       "        True,  True,  True,  True,  True,  True,  True,  True,  True,\n",
       "        True,  True,  True,  True,  True,  True,  True,  True,  True,\n",
       "        True,  True,  True,  True,  True,  True,  True,  True,  True,\n",
       "        True,  True,  True,  True,  True,  True,  True,  True,  True,\n",
       "        True,  True,  True,  True,  True,  True,  True,  True,  True,\n",
       "        True,  True,  True,  True,  True,  True,  True,  True,  True,\n",
       "        True,  True,  True,  True,  True,  True,  True,  True,  True,\n",
       "       False])"
      ]
     },
     "execution_count": 23,
     "metadata": {},
     "output_type": "execute_result"
    }
   ],
   "source": [
    "answer == predictions"
   ]
  },
  {
   "cell_type": "markdown",
   "metadata": {},
   "source": [
    "# Exercise\n",
    "1. Reassign the NUM_DIGITS to be 5 and re-run the notebook. What do you notice? Take note of the accuracy number.\n",
    "2. Reassign the NUM_DIGITS to be 11 and re-run the notebook. What do you notice? Take note of the accuracy number. \n",
    "3. Now try commenting out the last two model layers so there's only a single layer. Re-run the model to test for accuracy.\n",
    "4. Un-comment the last two model layers and set all their their activation parameters to \"sigmoid\" and re-run.\n",
    "5. Explore https://keras.io/activations/ to see what other activation functions are available. Experiment with some and see how they perform. This is an example of hyperparameter tuning."
   ]
  },
  {
   "cell_type": "code",
   "execution_count": null,
   "metadata": {},
   "outputs": [],
   "source": []
  },
  {
   "cell_type": "code",
   "execution_count": null,
   "metadata": {},
   "outputs": [],
   "source": []
  },
  {
   "cell_type": "code",
   "execution_count": null,
   "metadata": {},
   "outputs": [],
   "source": []
  },
  {
   "cell_type": "code",
   "execution_count": null,
   "metadata": {},
   "outputs": [],
   "source": []
  }
 ],
 "metadata": {
  "kernelspec": {
   "display_name": "Python 3",
   "language": "python",
   "name": "python3"
  },
  "language_info": {
   "codemirror_mode": {
    "name": "ipython",
    "version": 3
   },
   "file_extension": ".py",
   "mimetype": "text/x-python",
   "name": "python",
   "nbconvert_exporter": "python",
   "pygments_lexer": "ipython3",
   "version": "3.7.3"
  }
 },
 "nbformat": 4,
 "nbformat_minor": 2
}
