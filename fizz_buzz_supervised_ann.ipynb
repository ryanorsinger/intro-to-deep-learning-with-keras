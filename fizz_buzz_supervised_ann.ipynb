{
 "cells": [
  {
   "cell_type": "markdown",
   "metadata": {},
   "source": [
    "# Solving FizzBuzz with Keras"
   ]
  },
  {
   "cell_type": "markdown",
   "metadata": {},
   "source": [
    "## Overview\n",
    "- This notebook provides an example Keras network to solve FizzBuzz.\n",
    "- This is a supervised classification problem, so we'll train our model on labeled data.\n",
    "\n",
    "<img src=\"https://camo.githubusercontent.com/fedd5d66bea57a430635498de58dc7c6f064f280/68747470733a2f2f64707a6268796262327064636a2e636c6f756466726f6e742e6e65742f63686f6c6c65742f466967757265732f303166696730322e6a7067\">"
   ]
  },
  {
   "cell_type": "markdown",
   "metadata": {},
   "source": [
    "## What is FizzBuzz?\n",
    "FizzBuzz is a common programming interview problem. Here's the setup.\n",
    "- Write a program that outputs all the integers from 1 to 100.\n",
    "- If the number is a multpile of 3, then output the string \"Fizz\"\n",
    "- If the number is a multiple of 5, then output the string \"Buzz\"\n",
    "- If the number is a multiple of 15, output the string \"FizzBuzz\"\n",
    "- For any other number, output that, number itself."
   ]
  },
  {
   "cell_type": "code",
   "execution_count": null,
   "metadata": {},
   "outputs": [],
   "source": [
    "import warnings\n",
    "warnings.filterwarnings('ignore')\n",
    "\n",
    "# imports\n",
    "import numpy as np\n",
    "from keras.models import Sequential\n",
    "from keras.layers import Dense\n",
    "from keras.utils import np_utils\n",
    "from keras.models import Model"
   ]
  },
  {
   "cell_type": "code",
   "execution_count": null,
   "metadata": {},
   "outputs": [],
   "source": [
    "# Specify the number of binary digits. \n",
    "NUM_DIGITS = 10"
   ]
  },
  {
   "cell_type": "code",
   "execution_count": null,
   "metadata": {},
   "outputs": [],
   "source": [
    "## Setup the training data for 101-1024. 1024 is the highest number countable with 10 binary digits\n",
    "raw_training_data = np.array(range(101, 2**NUM_DIGITS))"
   ]
  },
  {
   "cell_type": "code",
   "execution_count": null,
   "metadata": {},
   "outputs": [],
   "source": [
    "## This is a numpy array of integers.\n",
    "raw_training_data[0:20]"
   ]
  },
  {
   "cell_type": "code",
   "execution_count": null,
   "metadata": {},
   "outputs": [],
   "source": [
    "# We need to binary encode our inputs\n",
    "def binary_encode(i, NUM_DIGITS):\n",
    "    return np.array([i >> d & 1 for d in range(NUM_DIGITS)])"
   ]
  },
  {
   "cell_type": "code",
   "execution_count": null,
   "metadata": {},
   "outputs": [],
   "source": [
    "binary_encode(1023, NUM_DIGITS)"
   ]
  },
  {
   "cell_type": "code",
   "execution_count": null,
   "metadata": {},
   "outputs": [],
   "source": [
    "encoded_training_data = [binary_encode(i, NUM_DIGITS) for i in raw_training_data]\n",
    "x_train = np.array(encoded_training_data)\n",
    "x_train[0]"
   ]
  },
  {
   "cell_type": "code",
   "execution_count": null,
   "metadata": {},
   "outputs": [],
   "source": [
    "print(binary_encode(1, NUM_DIGITS))\n",
    "print(binary_encode(2, NUM_DIGITS))\n",
    "print(binary_encode(3, NUM_DIGITS))\n",
    "print(binary_encode(4, NUM_DIGITS))"
   ]
  },
  {
   "cell_type": "code",
   "execution_count": null,
   "metadata": {},
   "outputs": [],
   "source": [
    "# Now we'll need to one hot encode the training data for y\n",
    "def fizz_buzz_encode(i):\n",
    "    if i % 15 == 0:\n",
    "        return np.array([0, 0, 0, 1]) # encoding for \"fizzbuzz\"\n",
    "    elif i % 5 == 0: \n",
    "        return np.array([0, 0, 1, 0]) # encoding for \"buzz\"\n",
    "    elif i % 3  == 0: \n",
    "        return np.array([0, 1, 0, 0]) # encoding for \"fizz\"\n",
    "    else:\n",
    "        return np.array([1, 0, 0, 0]) # encoding for the number output"
   ]
  },
  {
   "cell_type": "code",
   "execution_count": null,
   "metadata": {},
   "outputs": [],
   "source": [
    "fizz_buzz_encode(10)"
   ]
  },
  {
   "cell_type": "code",
   "execution_count": null,
   "metadata": {},
   "outputs": [],
   "source": [
    "# y_train is the encoded output. \n",
    "# This is our \"labeled data\" for supervised learning\n",
    "y_train = np.array([fizz_buzz_encode(i) for i in range(101, 2 ** NUM_DIGITS)])\n",
    "y_train"
   ]
  },
  {
   "cell_type": "code",
   "execution_count": null,
   "metadata": {},
   "outputs": [],
   "source": [
    "# Now let's build our model, add layers, compile, and fit it!\n",
    "model = Sequential()"
   ]
  },
  {
   "cell_type": "code",
   "execution_count": null,
   "metadata": {},
   "outputs": [],
   "source": [
    "## Add the model's layers. \n",
    "model.add(Dense(1000, input_dim=NUM_DIGITS, activation=\"relu\"))\n",
    "model.add(Dense(1000, activation=\"relu\"))\n",
    "model.add(Dense(4, activation=\"softmax\"))"
   ]
  },
  {
   "cell_type": "code",
   "execution_count": null,
   "metadata": {},
   "outputs": [],
   "source": [
    "model.compile(loss='categorical_crossentropy', optimizer='adagrad', metrics=[\"accuracy\"])"
   ]
  },
  {
   "cell_type": "code",
   "execution_count": null,
   "metadata": {},
   "outputs": [],
   "source": [
    "model.fit(x_train, y_train, nb_epoch=100, batch_size=128)"
   ]
  },
  {
   "cell_type": "markdown",
   "metadata": {},
   "source": []
  },
  {
   "cell_type": "code",
   "execution_count": null,
   "metadata": {},
   "outputs": [],
   "source": [
    "# fizzbuzz to binary\n",
    "def fizz_buzz(i, prediction):\n",
    "    return [str(i), \"fizz\", \"buzz\", \"fizzbuzz\"][prediction]\n"
   ]
  },
  {
   "cell_type": "code",
   "execution_count": null,
   "metadata": {},
   "outputs": [],
   "source": [
    "# Setup x_test  fizzbuzz for prime numbers from 1 to 100\n",
    "numbers = np.arange(1, 101)\n",
    "x_test = np.transpose(binary_encode(numbers, NUM_DIGITS))\n",
    "y_test = model.predict_classes(x_test)"
   ]
  },
  {
   "cell_type": "code",
   "execution_count": null,
   "metadata": {},
   "outputs": [],
   "source": [
    "# Setup predicted output\n",
    "predictions = np.vectorize(fizz_buzz)(numbers, y_test)\n",
    "print (predictions)"
   ]
  },
  {
   "cell_type": "code",
   "execution_count": null,
   "metadata": {},
   "outputs": [],
   "source": [
    "# correct answers for fizzbuzz on 1-100, these are our actual values\n",
    "answer = np.array([])\n",
    "for i in numbers:\n",
    "    if i % 15 == 0: \n",
    "        answer = np.append(answer, \"fizzbuzz\")\n",
    "    elif i % 5 == 0: \n",
    "        answer = np.append(answer, \"buzz\")\n",
    "    elif i % 3 == 0: \n",
    "        answer = np.append(answer, \"fizz\")\n",
    "    else: answer = np.append(answer, str(i))\n",
    "print (answer)"
   ]
  },
  {
   "cell_type": "code",
   "execution_count": null,
   "metadata": {},
   "outputs": [],
   "source": [
    "# Let's evaluate the model's predictions\n",
    "evaluate = np.array(answer == predictions)\n",
    "print (np.count_nonzero(evaluate == True) / 100)"
   ]
  },
  {
   "cell_type": "code",
   "execution_count": null,
   "metadata": {},
   "outputs": [],
   "source": [
    "answer == predictions"
   ]
  },
  {
   "cell_type": "markdown",
   "metadata": {},
   "source": [
    "# Exercise\n",
    "1. Reassign the NUM_DIGITS to be 5 and re-run the notebook. What do you notice? Take note of the accuracy number.\n",
    "2. Reassign the NUM_DIGITS to be 11 and re-run the notebook. What do you notice? Take note of the accuracy number. \n",
    "3. Now try commenting out the last two model layers so there's only a single layer. Re-run the model to test for accuracy.\n",
    "4. Un-comment the last two model layers and set all their their activation parameters to \"sigmoid\" and re-run.\n",
    "5. Explore https://keras.io/activations/ to see what other activation functions are available. Experiment with some and see how they perform. This is an example of hyperparameter tuning."
   ]
  },
  {
   "cell_type": "code",
   "execution_count": null,
   "metadata": {},
   "outputs": [],
   "source": []
  }
 ],
 "metadata": {
  "kernelspec": {
   "display_name": "Python 3",
   "language": "python",
   "name": "python3"
  },
  "language_info": {
   "codemirror_mode": {
    "name": "ipython",
    "version": 3
   },
   "file_extension": ".py",
   "mimetype": "text/x-python",
   "name": "python",
   "nbconvert_exporter": "python",
   "pygments_lexer": "ipython3",
   "version": "3.7.3"
  }
 },
 "nbformat": 4,
 "nbformat_minor": 2
}
