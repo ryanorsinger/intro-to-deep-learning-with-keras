{
 "cells": [
  {
   "cell_type": "markdown",
   "metadata": {},
   "source": [
    "# Solving FizzBuzz with Keras"
   ]
  },
  {
   "cell_type": "markdown",
   "metadata": {},
   "source": [
    "## Overview\n",
    "- This notebook provides an example Keras network to solve FizzBuzz.\n",
    "- This is a supervised classification problem, so we'll train our model on labeled data.\n",
    "\n",
    "<img src=\"https://camo.githubusercontent.com/fedd5d66bea57a430635498de58dc7c6f064f280/68747470733a2f2f64707a6268796262327064636a2e636c6f756466726f6e742e6e65742f63686f6c6c65742f466967757265732f303166696730322e6a7067\">"
   ]
  },
  {
   "cell_type": "markdown",
   "metadata": {},
   "source": [
    "## What is FizzBuzz?\n",
    "FizzBuzz is a common programming interview problem. Here's the setup.\n",
    "- Write a program that outputs all the integers from 1 to 100.\n",
    "- If the number is a multpile of 3, then output the string \"Fizz\"\n",
    "- If the number is a multiple of 5, then output the string \"Buzz\"\n",
    "- If the number is a multiple of 15, output the string \"FizzBuzz\"\n",
    "- For any other number, output that, number itself."
   ]
  },
  {
   "cell_type": "code",
   "execution_count": 1,
   "metadata": {},
   "outputs": [
    {
     "name": "stderr",
     "output_type": "stream",
     "text": [
      "Using TensorFlow backend.\n"
     ]
    }
   ],
   "source": [
    "import warnings\n",
    "warnings.filterwarnings('ignore')\n",
    "\n",
    "# imports\n",
    "import numpy as np\n",
    "from keras.models import Sequential\n",
    "from keras.layers import Dense\n",
    "from keras.utils import np_utils\n",
    "from keras.models import Model"
   ]
  },
  {
   "cell_type": "code",
   "execution_count": 2,
   "metadata": {},
   "outputs": [],
   "source": [
    "# Specify the number of binary digits. \n",
    "NUM_DIGITS = 10"
   ]
  },
  {
   "cell_type": "code",
   "execution_count": 3,
   "metadata": {},
   "outputs": [],
   "source": [
    "## Setup the training data for 101-1024. 1024 is the highest number countable with 10 binary digits\n",
    "raw_training_data = np.array(range(101, 2**NUM_DIGITS))"
   ]
  },
  {
   "cell_type": "code",
   "execution_count": 4,
   "metadata": {},
   "outputs": [
    {
     "data": {
      "text/plain": [
       "array([101, 102, 103, 104, 105, 106, 107, 108, 109, 110, 111, 112, 113,\n",
       "       114, 115, 116, 117, 118, 119, 120])"
      ]
     },
     "execution_count": 4,
     "metadata": {},
     "output_type": "execute_result"
    }
   ],
   "source": [
    "## This is a numpy array of integers.\n",
    "raw_training_data[0:20]"
   ]
  },
  {
   "cell_type": "code",
   "execution_count": 5,
   "metadata": {},
   "outputs": [],
   "source": [
    "# We need to binary encode our inputs\n",
    "def binary_encode(i, NUM_DIGITS):\n",
    "    return np.array([i >> d & 1 for d in range(NUM_DIGITS)])"
   ]
  },
  {
   "cell_type": "code",
   "execution_count": 6,
   "metadata": {},
   "outputs": [
    {
     "data": {
      "text/plain": [
       "array([1, 1, 1, 1, 1, 1, 1, 1, 1, 1])"
      ]
     },
     "execution_count": 6,
     "metadata": {},
     "output_type": "execute_result"
    }
   ],
   "source": [
    "binary_encode(1023, NUM_DIGITS)"
   ]
  },
  {
   "cell_type": "code",
   "execution_count": 7,
   "metadata": {},
   "outputs": [
    {
     "data": {
      "text/plain": [
       "array([1, 0, 1, 0, 0, 1, 1, 0, 0, 0])"
      ]
     },
     "execution_count": 7,
     "metadata": {},
     "output_type": "execute_result"
    }
   ],
   "source": [
    "encoded_training_data = [binary_encode(i, NUM_DIGITS) for i in raw_training_data]\n",
    "x_train = np.array(encoded_training_data)\n",
    "x_train[0]"
   ]
  },
  {
   "cell_type": "code",
   "execution_count": 8,
   "metadata": {},
   "outputs": [
    {
     "name": "stdout",
     "output_type": "stream",
     "text": [
      "[1 0 0 0 0 0 0 0 0 0]\n",
      "[0 1 0 0 0 0 0 0 0 0]\n",
      "[1 1 0 0 0 0 0 0 0 0]\n",
      "[0 0 1 0 0 0 0 0 0 0]\n"
     ]
    }
   ],
   "source": [
    "print(binary_encode(1, NUM_DIGITS))\n",
    "print(binary_encode(2, NUM_DIGITS))\n",
    "print(binary_encode(3, NUM_DIGITS))\n",
    "print(binary_encode(4, NUM_DIGITS))"
   ]
  },
  {
   "cell_type": "code",
   "execution_count": 9,
   "metadata": {},
   "outputs": [],
   "source": [
    "# Now we'll need to one hot encode the training data for y\n",
    "def fizz_buzz_encode(i):\n",
    "    if i % 15 == 0:\n",
    "        return np.array([0, 0, 0, 1]) # encoding for \"fizzbuzz\"\n",
    "    elif i % 5 == 0: \n",
    "        return np.array([0, 0, 1, 0]) # encoding for \"buzz\"\n",
    "    elif i % 3  == 0: \n",
    "        return np.array([0, 1, 0, 0]) # encoding for \"fizz\"\n",
    "    else:\n",
    "        return np.array([1, 0, 0, 0]) # encoding for the number output"
   ]
  },
  {
   "cell_type": "code",
   "execution_count": 10,
   "metadata": {},
   "outputs": [
    {
     "data": {
      "text/plain": [
       "array([0, 0, 1, 0])"
      ]
     },
     "execution_count": 10,
     "metadata": {},
     "output_type": "execute_result"
    }
   ],
   "source": [
    "fizz_buzz_encode(10)"
   ]
  },
  {
   "cell_type": "code",
   "execution_count": 11,
   "metadata": {},
   "outputs": [
    {
     "data": {
      "text/plain": [
       "array([[1, 0, 0, 0],\n",
       "       [0, 1, 0, 0],\n",
       "       [1, 0, 0, 0],\n",
       "       ...,\n",
       "       [1, 0, 0, 0],\n",
       "       [1, 0, 0, 0],\n",
       "       [0, 1, 0, 0]])"
      ]
     },
     "execution_count": 11,
     "metadata": {},
     "output_type": "execute_result"
    }
   ],
   "source": [
    "# y_train is the encoded output. \n",
    "# This is our \"labeled data\" for supervised learning\n",
    "y_train = np.array([fizz_buzz_encode(i) for i in range(101, 2 ** NUM_DIGITS)])\n",
    "y_train"
   ]
  },
  {
   "cell_type": "code",
   "execution_count": 12,
   "metadata": {},
   "outputs": [
    {
     "name": "stdout",
     "output_type": "stream",
     "text": [
      "WARNING:tensorflow:From /usr/local/anaconda3/lib/python3.7/site-packages/keras/backend/tensorflow_backend.py:74: The name tf.get_default_graph is deprecated. Please use tf.compat.v1.get_default_graph instead.\n",
      "\n"
     ]
    }
   ],
   "source": [
    "# Now let's build our model, add layers, compile, and fit it!\n",
    "model = Sequential()"
   ]
  },
  {
   "cell_type": "code",
   "execution_count": 13,
   "metadata": {},
   "outputs": [
    {
     "name": "stdout",
     "output_type": "stream",
     "text": [
      "WARNING:tensorflow:From /usr/local/anaconda3/lib/python3.7/site-packages/keras/backend/tensorflow_backend.py:517: The name tf.placeholder is deprecated. Please use tf.compat.v1.placeholder instead.\n",
      "\n",
      "WARNING:tensorflow:From /usr/local/anaconda3/lib/python3.7/site-packages/keras/backend/tensorflow_backend.py:4138: The name tf.random_uniform is deprecated. Please use tf.random.uniform instead.\n",
      "\n"
     ]
    }
   ],
   "source": [
    "## Add the model's layers. \n",
    "model.add(Dense(1000, input_dim=NUM_DIGITS, activation=\"relu\"))\n",
    "model.add(Dense(1000, activation=\"relu\"))\n",
    "model.add(Dense(4, activation=\"softmax\"))"
   ]
  },
  {
   "cell_type": "code",
   "execution_count": 14,
   "metadata": {},
   "outputs": [
    {
     "name": "stdout",
     "output_type": "stream",
     "text": [
      "WARNING:tensorflow:From /usr/local/anaconda3/lib/python3.7/site-packages/keras/optimizers.py:790: The name tf.train.Optimizer is deprecated. Please use tf.compat.v1.train.Optimizer instead.\n",
      "\n",
      "WARNING:tensorflow:From /usr/local/anaconda3/lib/python3.7/site-packages/keras/backend/tensorflow_backend.py:3295: The name tf.log is deprecated. Please use tf.math.log instead.\n",
      "\n"
     ]
    }
   ],
   "source": [
    "model.compile(loss='categorical_crossentropy', optimizer='adagrad', metrics=[\"accuracy\"])"
   ]
  },
  {
   "cell_type": "code",
   "execution_count": 15,
   "metadata": {},
   "outputs": [
    {
     "name": "stdout",
     "output_type": "stream",
     "text": [
      "WARNING:tensorflow:From /usr/local/anaconda3/lib/python3.7/site-packages/tensorflow/python/ops/math_grad.py:1250: add_dispatch_support.<locals>.wrapper (from tensorflow.python.ops.array_ops) is deprecated and will be removed in a future version.\n",
      "Instructions for updating:\n",
      "Use tf.where in 2.0, which has the same broadcast rule as np.where\n",
      "WARNING:tensorflow:From /usr/local/anaconda3/lib/python3.7/site-packages/keras/backend/tensorflow_backend.py:986: The name tf.assign_add is deprecated. Please use tf.compat.v1.assign_add instead.\n",
      "\n",
      "Epoch 1/100\n",
      "923/923 [==============================] - 1s 1ms/step - loss: 1.6967 - acc: 0.4821\n",
      "Epoch 2/100\n",
      "923/923 [==============================] - 0s 179us/step - loss: 1.1500 - acc: 0.5341\n",
      "Epoch 3/100\n",
      "923/923 [==============================] - 0s 157us/step - loss: 1.1405 - acc: 0.5341\n",
      "Epoch 4/100\n",
      "923/923 [==============================] - 0s 153us/step - loss: 1.1363 - acc: 0.5341\n",
      "Epoch 5/100\n",
      "923/923 [==============================] - 0s 167us/step - loss: 1.1302 - acc: 0.5341\n",
      "Epoch 6/100\n",
      "923/923 [==============================] - 0s 157us/step - loss: 1.1142 - acc: 0.5341\n",
      "Epoch 7/100\n",
      "923/923 [==============================] - 0s 155us/step - loss: 1.1089 - acc: 0.5352\n",
      "Epoch 8/100\n",
      "923/923 [==============================] - 0s 151us/step - loss: 1.0906 - acc: 0.5330\n",
      "Epoch 9/100\n",
      "923/923 [==============================] - 0s 162us/step - loss: 1.0734 - acc: 0.5352\n",
      "Epoch 10/100\n",
      "923/923 [==============================] - 0s 187us/step - loss: 1.0679 - acc: 0.5352\n",
      "Epoch 11/100\n",
      "923/923 [==============================] - 0s 169us/step - loss: 1.0341 - acc: 0.5352\n",
      "Epoch 12/100\n",
      "923/923 [==============================] - 0s 155us/step - loss: 1.0158 - acc: 0.5439\n",
      "Epoch 13/100\n",
      "923/923 [==============================] - 0s 154us/step - loss: 0.9969 - acc: 0.5406\n",
      "Epoch 14/100\n",
      "923/923 [==============================] - 0s 157us/step - loss: 0.9693 - acc: 0.5482\n",
      "Epoch 15/100\n",
      "923/923 [==============================] - 0s 158us/step - loss: 0.9451 - acc: 0.5460\n",
      "Epoch 16/100\n",
      "923/923 [==============================] - 0s 158us/step - loss: 0.9179 - acc: 0.5655\n",
      "Epoch 17/100\n",
      "923/923 [==============================] - 0s 153us/step - loss: 0.8879 - acc: 0.5894\n",
      "Epoch 18/100\n",
      "923/923 [==============================] - 0s 157us/step - loss: 0.8738 - acc: 0.6111\n",
      "Epoch 19/100\n",
      "923/923 [==============================] - 0s 185us/step - loss: 0.8414 - acc: 0.6219\n",
      "Epoch 20/100\n",
      "923/923 [==============================] - 0s 202us/step - loss: 0.8161 - acc: 0.6197\n",
      "Epoch 21/100\n",
      "923/923 [==============================] - 0s 196us/step - loss: 0.7699 - acc: 0.6598\n",
      "Epoch 22/100\n",
      "923/923 [==============================] - 0s 176us/step - loss: 0.7611 - acc: 0.6663\n",
      "Epoch 23/100\n",
      "923/923 [==============================] - 0s 150us/step - loss: 0.7448 - acc: 0.6901\n",
      "Epoch 24/100\n",
      "923/923 [==============================] - 0s 152us/step - loss: 0.6857 - acc: 0.7031\n",
      "Epoch 25/100\n",
      "923/923 [==============================] - 0s 162us/step - loss: 0.6526 - acc: 0.7476\n",
      "Epoch 26/100\n",
      "923/923 [==============================] - 0s 162us/step - loss: 0.6867 - acc: 0.7378\n",
      "Epoch 27/100\n",
      "923/923 [==============================] - 0s 159us/step - loss: 0.6097 - acc: 0.7736\n",
      "Epoch 28/100\n",
      "923/923 [==============================] - 0s 177us/step - loss: 0.5703 - acc: 0.8147\n",
      "Epoch 29/100\n",
      "923/923 [==============================] - 0s 186us/step - loss: 0.5304 - acc: 0.8483\n",
      "Epoch 30/100\n",
      "923/923 [==============================] - 0s 163us/step - loss: 0.5064 - acc: 0.8451\n",
      "Epoch 31/100\n",
      "923/923 [==============================] - 0s 152us/step - loss: 0.4975 - acc: 0.8505\n",
      "Epoch 32/100\n",
      "923/923 [==============================] - 0s 154us/step - loss: 0.4952 - acc: 0.8407\n",
      "Epoch 33/100\n",
      "923/923 [==============================] - 0s 158us/step - loss: 0.4242 - acc: 0.9144\n",
      "Epoch 34/100\n",
      "923/923 [==============================] - 0s 159us/step - loss: 0.4047 - acc: 0.9231\n",
      "Epoch 35/100\n",
      "923/923 [==============================] - 0s 162us/step - loss: 0.3736 - acc: 0.9382\n",
      "Epoch 36/100\n",
      "923/923 [==============================] - 0s 205us/step - loss: 0.3871 - acc: 0.9014\n",
      "Epoch 37/100\n",
      "923/923 [==============================] - 0s 181us/step - loss: 0.3273 - acc: 0.9480\n",
      "Epoch 38/100\n",
      "923/923 [==============================] - 0s 155us/step - loss: 0.3295 - acc: 0.9458\n",
      "Epoch 39/100\n",
      "923/923 [==============================] - 0s 155us/step - loss: 0.2910 - acc: 0.9621\n",
      "Epoch 40/100\n",
      "923/923 [==============================] - 0s 203us/step - loss: 0.2685 - acc: 0.9740\n",
      "Epoch 41/100\n",
      "923/923 [==============================] - 0s 132us/step - loss: 0.2471 - acc: 0.9729\n",
      "Epoch 42/100\n",
      "923/923 [==============================] - 0s 125us/step - loss: 0.2302 - acc: 0.9805\n",
      "Epoch 43/100\n",
      "923/923 [==============================] - 0s 135us/step - loss: 0.2439 - acc: 0.9588\n",
      "Epoch 44/100\n",
      "923/923 [==============================] - 0s 146us/step - loss: 0.2227 - acc: 0.9751\n",
      "Epoch 45/100\n",
      "923/923 [==============================] - 0s 144us/step - loss: 0.2082 - acc: 0.9783\n",
      "Epoch 46/100\n",
      "923/923 [==============================] - 0s 137us/step - loss: 0.1912 - acc: 0.9827\n",
      "Epoch 47/100\n",
      "923/923 [==============================] - 0s 129us/step - loss: 0.1947 - acc: 0.9751\n",
      "Epoch 48/100\n",
      "923/923 [==============================] - 0s 128us/step - loss: 0.1593 - acc: 0.9870\n",
      "Epoch 49/100\n",
      "923/923 [==============================] - 0s 136us/step - loss: 0.1540 - acc: 0.9881\n",
      "Epoch 50/100\n",
      "923/923 [==============================] - 0s 133us/step - loss: 0.1484 - acc: 0.9935\n",
      "Epoch 51/100\n",
      "923/923 [==============================] - 0s 127us/step - loss: 0.1464 - acc: 0.9816\n",
      "Epoch 52/100\n",
      "923/923 [==============================] - 0s 124us/step - loss: 0.1255 - acc: 0.9946\n",
      "Epoch 53/100\n",
      "923/923 [==============================] - 0s 127us/step - loss: 0.1203 - acc: 0.9913\n",
      "Epoch 54/100\n",
      "923/923 [==============================] - 0s 128us/step - loss: 0.1104 - acc: 0.9946\n",
      "Epoch 55/100\n",
      "923/923 [==============================] - 0s 136us/step - loss: 0.1175 - acc: 0.9913\n",
      "Epoch 56/100\n",
      "923/923 [==============================] - 0s 134us/step - loss: 0.1056 - acc: 0.9935\n",
      "Epoch 57/100\n",
      "923/923 [==============================] - 0s 130us/step - loss: 0.0947 - acc: 0.9957\n",
      "Epoch 58/100\n",
      "923/923 [==============================] - 0s 131us/step - loss: 0.0890 - acc: 0.9967\n",
      "Epoch 59/100\n",
      "923/923 [==============================] - 0s 128us/step - loss: 0.0868 - acc: 0.9957\n",
      "Epoch 60/100\n",
      "923/923 [==============================] - 0s 141us/step - loss: 0.0870 - acc: 0.9957\n",
      "Epoch 61/100\n",
      "923/923 [==============================] - 0s 139us/step - loss: 0.0870 - acc: 0.9946\n",
      "Epoch 62/100\n",
      "923/923 [==============================] - 0s 129us/step - loss: 0.0794 - acc: 0.9957\n",
      "Epoch 63/100\n",
      "923/923 [==============================] - 0s 137us/step - loss: 0.0723 - acc: 0.9967\n",
      "Epoch 64/100\n",
      "923/923 [==============================] - 0s 133us/step - loss: 0.0688 - acc: 0.9967\n",
      "Epoch 65/100\n",
      "923/923 [==============================] - 0s 133us/step - loss: 0.0701 - acc: 0.9967\n",
      "Epoch 66/100\n",
      "923/923 [==============================] - 0s 134us/step - loss: 0.0661 - acc: 0.9957\n",
      "Epoch 67/100\n",
      "923/923 [==============================] - 0s 135us/step - loss: 0.0600 - acc: 0.9978\n",
      "Epoch 68/100\n",
      "923/923 [==============================] - 0s 131us/step - loss: 0.0568 - acc: 0.9967\n",
      "Epoch 69/100\n",
      "923/923 [==============================] - 0s 135us/step - loss: 0.0550 - acc: 0.9967\n",
      "Epoch 70/100\n",
      "923/923 [==============================] - 0s 134us/step - loss: 0.0540 - acc: 0.9967\n",
      "Epoch 71/100\n",
      "923/923 [==============================] - 0s 204us/step - loss: 0.0502 - acc: 0.9978\n",
      "Epoch 72/100\n",
      "923/923 [==============================] - 0s 164us/step - loss: 0.0494 - acc: 0.9978\n",
      "Epoch 73/100\n",
      "923/923 [==============================] - 0s 134us/step - loss: 0.0474 - acc: 0.9978\n",
      "Epoch 74/100\n",
      "923/923 [==============================] - 0s 181us/step - loss: 0.0455 - acc: 0.9989\n",
      "Epoch 75/100\n",
      "923/923 [==============================] - 0s 197us/step - loss: 0.0447 - acc: 0.9989\n",
      "Epoch 76/100\n",
      "923/923 [==============================] - 0s 156us/step - loss: 0.0418 - acc: 0.9989\n",
      "Epoch 77/100\n",
      "923/923 [==============================] - 0s 145us/step - loss: 0.0405 - acc: 1.0000\n",
      "Epoch 78/100\n"
     ]
    },
    {
     "name": "stdout",
     "output_type": "stream",
     "text": [
      "923/923 [==============================] - 0s 193us/step - loss: 0.0402 - acc: 0.9989\n",
      "Epoch 79/100\n",
      "923/923 [==============================] - 0s 137us/step - loss: 0.0389 - acc: 0.9989\n",
      "Epoch 80/100\n",
      "923/923 [==============================] - 0s 137us/step - loss: 0.0367 - acc: 1.0000\n",
      "Epoch 81/100\n",
      "923/923 [==============================] - 0s 139us/step - loss: 0.0361 - acc: 0.9989\n",
      "Epoch 82/100\n",
      "923/923 [==============================] - 0s 132us/step - loss: 0.0346 - acc: 1.0000\n",
      "Epoch 83/100\n",
      "923/923 [==============================] - 0s 139us/step - loss: 0.0344 - acc: 1.0000\n",
      "Epoch 84/100\n",
      "923/923 [==============================] - 0s 142us/step - loss: 0.0328 - acc: 0.9989\n",
      "Epoch 85/100\n",
      "923/923 [==============================] - 0s 140us/step - loss: 0.0313 - acc: 1.0000\n",
      "Epoch 86/100\n",
      "923/923 [==============================] - 0s 140us/step - loss: 0.0312 - acc: 1.0000\n",
      "Epoch 87/100\n",
      "923/923 [==============================] - 0s 199us/step - loss: 0.0299 - acc: 1.0000\n",
      "Epoch 88/100\n",
      "923/923 [==============================] - 0s 152us/step - loss: 0.0285 - acc: 1.0000\n",
      "Epoch 89/100\n",
      "923/923 [==============================] - 0s 138us/step - loss: 0.0294 - acc: 0.9989\n",
      "Epoch 90/100\n",
      "923/923 [==============================] - 0s 139us/step - loss: 0.0274 - acc: 1.0000\n",
      "Epoch 91/100\n",
      "923/923 [==============================] - 0s 137us/step - loss: 0.0268 - acc: 1.0000\n",
      "Epoch 92/100\n",
      "923/923 [==============================] - 0s 136us/step - loss: 0.0266 - acc: 1.0000\n",
      "Epoch 93/100\n",
      "923/923 [==============================] - 0s 143us/step - loss: 0.0255 - acc: 1.0000\n",
      "Epoch 94/100\n",
      "923/923 [==============================] - 0s 153us/step - loss: 0.0245 - acc: 1.0000\n",
      "Epoch 95/100\n",
      "923/923 [==============================] - 0s 140us/step - loss: 0.0239 - acc: 1.0000\n",
      "Epoch 96/100\n",
      "923/923 [==============================] - 0s 137us/step - loss: 0.0241 - acc: 1.0000\n",
      "Epoch 97/100\n",
      "923/923 [==============================] - 0s 142us/step - loss: 0.0232 - acc: 1.0000\n",
      "Epoch 98/100\n",
      "923/923 [==============================] - 0s 140us/step - loss: 0.0224 - acc: 1.0000\n",
      "Epoch 99/100\n",
      "923/923 [==============================] - 0s 139us/step - loss: 0.0219 - acc: 1.0000\n",
      "Epoch 100/100\n",
      "923/923 [==============================] - 0s 141us/step - loss: 0.0211 - acc: 1.0000\n"
     ]
    },
    {
     "data": {
      "text/plain": [
       "<keras.callbacks.History at 0x638268320>"
      ]
     },
     "execution_count": 15,
     "metadata": {},
     "output_type": "execute_result"
    }
   ],
   "source": [
    "model.fit(x_train, y_train, nb_epoch=100, batch_size=128)"
   ]
  },
  {
   "cell_type": "markdown",
   "metadata": {},
   "source": []
  },
  {
   "cell_type": "code",
   "execution_count": 17,
   "metadata": {},
   "outputs": [],
   "source": [
    "# fizzbuzz to binary\n",
    "def fizz_buzz(i, prediction):\n",
    "    return [str(i), \"fizz\", \"buzz\", \"fizzbuzz\"][prediction]\n"
   ]
  },
  {
   "cell_type": "code",
   "execution_count": 18,
   "metadata": {},
   "outputs": [],
   "source": [
    "# Setup x_test  fizzbuzz for prime numbers from 1 to 100\n",
    "numbers = np.arange(1, 101)\n",
    "x_test = np.transpose(binary_encode(numbers, NUM_DIGITS))\n",
    "y_test = model.predict_classes(x_test)"
   ]
  },
  {
   "cell_type": "code",
   "execution_count": 19,
   "metadata": {},
   "outputs": [
    {
     "name": "stdout",
     "output_type": "stream",
     "text": [
      "['1' '2' 'fizz' '4' '5' 'fizz' '7' '8' 'fizz' 'buzz' '11' 'fizz' '13' '14'\n",
      " 'fizzbuzz' '16' '17' 'fizz' '19' 'buzz' 'fizz' '22' '23' 'fizz' 'buzz'\n",
      " '26' 'fizz' '28' '29' 'fizzbuzz' '31' '32' 'fizz' '34' 'buzz' 'fizz' '37'\n",
      " '38' 'fizz' '40' '41' 'fizz' '43' '44' 'fizzbuzz' '46' '47' 'fizz' '49'\n",
      " 'buzz' 'fizz' '52' '53' 'fizz' 'buzz' '56' 'fizz' '58' '59' 'fizzbuzz'\n",
      " '61' '62' 'fizz' '64' '65' 'fizz' '67' '68' 'fizz' 'buzz' '71' 'fizz'\n",
      " '73' '74' 'fizzbuzz' '76' '77' 'fizz' '79' 'buzz' 'fizz' '82' '83' 'fizz'\n",
      " 'buzz' '86' 'fizz' '88' '89' 'fizzbuzz' '91' '92' 'fizz' '94' 'buzz'\n",
      " 'fizz' '97' '98' 'fizz' 'buzz']\n"
     ]
    }
   ],
   "source": [
    "# Setup predicted output\n",
    "predictions = np.vectorize(fizz_buzz)(numbers, y_test)\n",
    "print (predictions)"
   ]
  },
  {
   "cell_type": "code",
   "execution_count": 20,
   "metadata": {},
   "outputs": [
    {
     "name": "stdout",
     "output_type": "stream",
     "text": [
      "['1' '2' 'fizz' '4' 'buzz' 'fizz' '7' '8' 'fizz' 'buzz' '11' 'fizz' '13'\n",
      " '14' 'fizzbuzz' '16' '17' 'fizz' '19' 'buzz' 'fizz' '22' '23' 'fizz'\n",
      " 'buzz' '26' 'fizz' '28' '29' 'fizzbuzz' '31' '32' 'fizz' '34' 'buzz'\n",
      " 'fizz' '37' '38' 'fizz' 'buzz' '41' 'fizz' '43' '44' 'fizzbuzz' '46' '47'\n",
      " 'fizz' '49' 'buzz' 'fizz' '52' '53' 'fizz' 'buzz' '56' 'fizz' '58' '59'\n",
      " 'fizzbuzz' '61' '62' 'fizz' '64' 'buzz' 'fizz' '67' '68' 'fizz' 'buzz'\n",
      " '71' 'fizz' '73' '74' 'fizzbuzz' '76' '77' 'fizz' '79' 'buzz' 'fizz' '82'\n",
      " '83' 'fizz' 'buzz' '86' 'fizz' '88' '89' 'fizzbuzz' '91' '92' 'fizz' '94'\n",
      " 'buzz' 'fizz' '97' '98' 'fizz' 'buzz']\n"
     ]
    }
   ],
   "source": [
    "# correct answers for fizzbuzz on 1-100, these are our actual values\n",
    "answer = np.array([])\n",
    "for i in numbers:\n",
    "    if i % 15 == 0: \n",
    "        answer = np.append(answer, \"fizzbuzz\")\n",
    "    elif i % 5 == 0: \n",
    "        answer = np.append(answer, \"buzz\")\n",
    "    elif i % 3 == 0: \n",
    "        answer = np.append(answer, \"fizz\")\n",
    "    else: answer = np.append(answer, str(i))\n",
    "print (answer)"
   ]
  },
  {
   "cell_type": "code",
   "execution_count": 21,
   "metadata": {},
   "outputs": [
    {
     "name": "stdout",
     "output_type": "stream",
     "text": [
      "0.97\n"
     ]
    }
   ],
   "source": [
    "# Let's evaluate the model's predictions\n",
    "evaluate = np.array(answer == predictions)\n",
    "print (np.count_nonzero(evaluate == True) / 100)"
   ]
  },
  {
   "cell_type": "code",
   "execution_count": 22,
   "metadata": {},
   "outputs": [
    {
     "data": {
      "text/plain": [
       "array([ True,  True,  True,  True, False,  True,  True,  True,  True,\n",
       "        True,  True,  True,  True,  True,  True,  True,  True,  True,\n",
       "        True,  True,  True,  True,  True,  True,  True,  True,  True,\n",
       "        True,  True,  True,  True,  True,  True,  True,  True,  True,\n",
       "        True,  True,  True, False,  True,  True,  True,  True,  True,\n",
       "        True,  True,  True,  True,  True,  True,  True,  True,  True,\n",
       "        True,  True,  True,  True,  True,  True,  True,  True,  True,\n",
       "        True, False,  True,  True,  True,  True,  True,  True,  True,\n",
       "        True,  True,  True,  True,  True,  True,  True,  True,  True,\n",
       "        True,  True,  True,  True,  True,  True,  True,  True,  True,\n",
       "        True,  True,  True,  True,  True,  True,  True,  True,  True,\n",
       "        True])"
      ]
     },
     "execution_count": 22,
     "metadata": {},
     "output_type": "execute_result"
    }
   ],
   "source": [
    "answer == predictions"
   ]
  },
  {
   "cell_type": "markdown",
   "metadata": {},
   "source": [
    "# Exercise\n",
    "1. Reassign the NUM_DIGITS to be 5 and re-run the notebook. What do you notice? Take note of the accuracy number.\n",
    "2. Reassign the NUM_DIGITS to be 11 and re-run the notebook. What do you notice? Take note of the accuracy number. \n",
    "3. Now try commenting out the last two model layers so there's only a single layer. Re-run the model to test for accuracy.\n",
    "4. Un-comment the last two model layers and set all their their activation parameters to \"sigmoid\" and re-run.\n",
    "5. Explore https://keras.io/activations/ to see what other activation functions are available. Experiment with some and see how they perform. This is an example of hyperparameter tuning."
   ]
  },
  {
   "cell_type": "code",
   "execution_count": null,
   "metadata": {},
   "outputs": [],
   "source": []
  }
 ],
 "metadata": {
  "kernelspec": {
   "display_name": "Python 3",
   "language": "python",
   "name": "python3"
  },
  "language_info": {
   "codemirror_mode": {
    "name": "ipython",
    "version": 3
   },
   "file_extension": ".py",
   "mimetype": "text/x-python",
   "name": "python",
   "nbconvert_exporter": "python",
   "pygments_lexer": "ipython3",
   "version": "3.7.3"
  }
 },
 "nbformat": 4,
 "nbformat_minor": 2
}
