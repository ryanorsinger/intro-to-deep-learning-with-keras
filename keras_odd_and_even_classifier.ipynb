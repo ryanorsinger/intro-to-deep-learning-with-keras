{
 "cells": [
  {
   "cell_type": "markdown",
   "metadata": {},
   "source": [
    "# Keras Network to Classify Odd/Even Numbers"
   ]
  },
  {
   "cell_type": "code",
   "execution_count": 1,
   "metadata": {},
   "outputs": [
    {
     "name": "stderr",
     "output_type": "stream",
     "text": [
      "Using TensorFlow backend.\n"
     ]
    }
   ],
   "source": [
    "import warnings\n",
    "warnings.filterwarnings('ignore')\n",
    "\n",
    "# imports\n",
    "import numpy as np\n",
    "from keras.models import Sequential\n",
    "from keras.layers import Dense\n",
    "from keras.utils import np_utils\n",
    "from keras.models import Model"
   ]
  },
  {
   "cell_type": "markdown",
   "metadata": {},
   "source": [
    "## Big Picture\n",
    "- Supervised learning\n",
    "- Neural nets try to approximate any arbitrary function, given enough data"
   ]
  },
  {
   "cell_type": "markdown",
   "metadata": {},
   "source": [
    "## Goal\n",
    "- Train a neural network classifier to classify if an integer is odd or even."
   ]
  },
  {
   "cell_type": "markdown",
   "metadata": {},
   "source": [
    "## Workflow\n",
    "1. Setup training data\n",
    "2. Create binary encoding for the input layer\n",
    "3. Create binary decoding for the ouput layer\n",
    "4. Create the model, add layers, and train/fit\n",
    "5. Create predictions on new data\n",
    "3. Evaluate the performance of the classifier"
   ]
  },
  {
   "cell_type": "code",
   "execution_count": 2,
   "metadata": {},
   "outputs": [],
   "source": [
    "# Specify the number of binary digits. \n",
    "NUM_DIGITS = 10"
   ]
  },
  {
   "cell_type": "code",
   "execution_count": 3,
   "metadata": {},
   "outputs": [],
   "source": [
    "## Setup the training data for 101-1024. 1024 is the highest number countable with 10 binary digits\n",
    "raw_training_data = np.array(range(101, 2**NUM_DIGITS))"
   ]
  },
  {
   "cell_type": "code",
   "execution_count": 4,
   "metadata": {},
   "outputs": [],
   "source": [
    "## Binary Encoding function\n",
    "# In order to binary encode the input values\n",
    "def binary_encode(i, NUM_DIGITS):\n",
    "    return np.array([i >> d & 1 for d in range(NUM_DIGITS)])"
   ]
  },
  {
   "cell_type": "code",
   "execution_count": 5,
   "metadata": {},
   "outputs": [
    {
     "name": "stdout",
     "output_type": "stream",
     "text": [
      "1 [1 0 0 0 0 0 0 0 0 0]\n",
      "2 [0 1 0 0 0 0 0 0 0 0]\n",
      "3 [1 1 0 0 0 0 0 0 0 0]\n",
      "4 [0 0 1 0 0 0 0 0 0 0]\n"
     ]
    }
   ],
   "source": [
    "print(1, binary_encode(1, NUM_DIGITS))\n",
    "print(2, binary_encode(2, NUM_DIGITS))\n",
    "print(3, binary_encode(3, NUM_DIGITS))\n",
    "print(4, binary_encode(4, NUM_DIGITS))"
   ]
  },
  {
   "cell_type": "code",
   "execution_count": 6,
   "metadata": {},
   "outputs": [],
   "source": [
    "# encode the training data\n",
    "encoded_training_data = [binary_encode(i, NUM_DIGITS) for i in raw_training_data]"
   ]
  },
  {
   "cell_type": "code",
   "execution_count": 7,
   "metadata": {},
   "outputs": [],
   "source": [
    "x_train = np.array(encoded_training_data)"
   ]
  },
  {
   "cell_type": "code",
   "execution_count": 8,
   "metadata": {},
   "outputs": [
    {
     "data": {
      "text/plain": [
       "array([[1, 0, 1, ..., 0, 0, 0],\n",
       "       [0, 1, 1, ..., 0, 0, 0],\n",
       "       [1, 1, 1, ..., 0, 0, 0],\n",
       "       ...,\n",
       "       [1, 0, 1, ..., 1, 1, 1],\n",
       "       [0, 1, 1, ..., 1, 1, 1],\n",
       "       [1, 1, 1, ..., 1, 1, 1]])"
      ]
     },
     "execution_count": 8,
     "metadata": {},
     "output_type": "execute_result"
    }
   ],
   "source": [
    "x_trainencode_even_odd"
   ]
  },
  {
   "cell_type": "code",
   "execution_count": 9,
   "metadata": {},
   "outputs": [],
   "source": [
    "# Encode \"even\" and \"odd\" to zero or 1\n",
    "# If we had more than 2 options, we'd one hot encode and make an array\n",
    "def encode_even_odd(i):\n",
    "    if i % 2 == 0:\n",
    "        return [0]\n",
    "    else:\n",
    "        return [1]\n",
    "\n",
    "assert encode_even_odd(2) == [0]\n",
    "assert encode_even_odd(3) == [1]"
   ]
  },
  {
   "cell_type": "code",
   "execution_count": 10,
   "metadata": {},
   "outputs": [],
   "source": [
    "# y_train is the encoded output. \n",
    "# This is our \"labeled data\" for supervised learning\n",
    "y_train = np.array([encode_even_odd(i) for i in range(101, 2 ** NUM_DIGITS)])"
   ]
  },
  {
   "cell_type": "markdown",
   "metadata": {},
   "source": [
    "## Compare raw inputs to the lables\n",
    "- The first five values in the input tensor are 101, 102, 103, 104, and 105\n",
    "- The encoded labels specify \"odd\", \"even\", \"odd\", \"even\", and then \"odd\"\n",
    "- Remember that training a classifier is supervised learning with labeled data"
   ]
  },
  {
   "cell_type": "code",
   "execution_count": 11,
   "metadata": {},
   "outputs": [
    {
     "name": "stdout",
     "output_type": "stream",
     "text": [
      "Raw training data [101 102 103 104 105]\n",
      "[[1]\n",
      " [0]\n",
      " [1]\n",
      " [0]\n",
      " [1]]\n"
     ]
    }
   ],
   "source": [
    "print(\"Raw training data\", raw_training_data[:5])\n",
    "print(y_train[:5])"
   ]
  },
  {
   "cell_type": "code",
   "execution_count": 12,
   "metadata": {},
   "outputs": [],
   "source": [
    "# Convert from binary back to the ouput string\n",
    "def decode_even_odd(n):\n",
    "    if n == 0:\n",
    "        return \"even\"\n",
    "    else:\n",
    "        return \"odd\"\n",
    "\n",
    "assert decode_even_odd(0) == 'even'\n",
    "assert decode_even_odd(1) == 'odd'"
   ]
  },
  {
   "cell_type": "code",
   "execution_count": 13,
   "metadata": {},
   "outputs": [],
   "source": [
    "# Another way I've seen this decoding written (especially with one hot encoded options)\n",
    "# Convert from binary back to the ouput string\n",
    "def decode_even_odd2(n):\n",
    "    return [\"even\", \"odd\"][n]\n",
    "\n",
    "assert decode_even_odd2(0) == 'even'\n",
    "assert decode_even_odd2(1) == 'odd'"
   ]
  },
  {
   "cell_type": "code",
   "execution_count": 22,
   "metadata": {},
   "outputs": [],
   "source": [
    "# Now let's build our model, add layers, compile, and fit it!\n",
    "model = Sequential()\n",
    "\n",
    "## Add the model's layers.\n",
    "# These are defaults and they work pretty well\n",
    "model.add(Dense(1000, input_dim=NUM_DIGITS, activation=\"relu\"))\n",
    "model.add(Dense(1000, activation=\"relu\"))\n",
    "model.add(Dense(4, activation=\"softmax\"))\n",
    "\n",
    "model.compile(loss='sparse_categorical_crossentropy', optimizer='adagrad', metrics=[\"accuracy\"])"
   ]
  },
  {
   "cell_type": "code",
   "execution_count": 23,
   "metadata": {},
   "outputs": [
    {
     "name": "stdout",
     "output_type": "stream",
     "text": [
      "WARNING:tensorflow:From /usr/local/anaconda3/lib/python3.7/site-packages/tensorflow/python/ops/math_grad.py:1250: add_dispatch_support.<locals>.wrapper (from tensorflow.python.ops.array_ops) is deprecated and will be removed in a future version.\n",
      "Instructions for updating:\n",
      "Use tf.where in 2.0, which has the same broadcast rule as np.where\n",
      "WARNING:tensorflow:From /usr/local/anaconda3/lib/python3.7/site-packages/keras/backend/tensorflow_backend.py:986: The name tf.assign_add is deprecated. Please use tf.compat.v1.assign_add instead.\n",
      "\n",
      "Epoch 1/100\n",
      "923/923 [==============================] - 1s 1ms/step - loss: 1.8010 - acc: 0.7801\n",
      "Epoch 2/100\n",
      "923/923 [==============================] - 0s 174us/step - loss: 0.0045 - acc: 1.0000\n",
      "Epoch 3/100\n",
      "923/923 [==============================] - 0s 164us/step - loss: 0.0018 - acc: 1.0000\n",
      "Epoch 4/100\n",
      "923/923 [==============================] - 0s 160us/step - loss: 8.9433e-04 - acc: 1.0000\n",
      "Epoch 5/100\n",
      "923/923 [==============================] - 0s 158us/step - loss: 4.9319e-04 - acc: 1.0000\n",
      "Epoch 6/100\n",
      "923/923 [==============================] - 0s 163us/step - loss: 2.9449e-04 - acc: 1.0000\n",
      "Epoch 7/100\n",
      "923/923 [==============================] - 0s 164us/step - loss: 1.9297e-04 - acc: 1.0000\n",
      "Epoch 8/100\n",
      "923/923 [==============================] - 0s 167us/step - loss: 1.3542e-04 - acc: 1.0000\n",
      "Epoch 9/100\n",
      "923/923 [==============================] - 0s 157us/step - loss: 9.6860e-05 - acc: 1.0000\n",
      "Epoch 10/100\n",
      "923/923 [==============================] - 0s 172us/step - loss: 7.2579e-05 - acc: 1.0000\n",
      "Epoch 11/100\n",
      "923/923 [==============================] - 0s 161us/step - loss: 5.7112e-05 - acc: 1.0000\n",
      "Epoch 12/100\n",
      "923/923 [==============================] - 0s 161us/step - loss: 4.6855e-05 - acc: 1.0000\n",
      "Epoch 13/100\n",
      "923/923 [==============================] - 0s 174us/step - loss: 3.9406e-05 - acc: 1.0000\n",
      "Epoch 14/100\n",
      "923/923 [==============================] - 0s 181us/step - loss: 3.3813e-05 - acc: 1.0000\n",
      "Epoch 15/100\n",
      "923/923 [==============================] - 0s 160us/step - loss: 2.9458e-05 - acc: 1.0000\n",
      "Epoch 16/100\n",
      "923/923 [==============================] - 0s 163us/step - loss: 2.5765e-05 - acc: 1.0000\n",
      "Epoch 17/100\n",
      "923/923 [==============================] - 0s 158us/step - loss: 2.3011e-05 - acc: 1.0000\n",
      "Epoch 18/100\n",
      "923/923 [==============================] - 0s 170us/step - loss: 2.0742e-05 - acc: 1.0000\n",
      "Epoch 19/100\n",
      "923/923 [==============================] - 0s 168us/step - loss: 1.8753e-05 - acc: 1.0000\n",
      "Epoch 20/100\n",
      "923/923 [==============================] - 0s 167us/step - loss: 1.7201e-05 - acc: 1.0000\n",
      "Epoch 21/100\n",
      "923/923 [==============================] - 0s 164us/step - loss: 1.5868e-05 - acc: 1.0000\n",
      "Epoch 22/100\n",
      "923/923 [==============================] - 0s 167us/step - loss: 1.4719e-05 - acc: 1.0000\n",
      "Epoch 23/100\n",
      "923/923 [==============================] - 0s 166us/step - loss: 1.3647e-05 - acc: 1.0000\n",
      "Epoch 24/100\n",
      "923/923 [==============================] - 0s 162us/step - loss: 1.2734e-05 - acc: 1.0000\n",
      "Epoch 25/100\n",
      "923/923 [==============================] - 0s 168us/step - loss: 1.1918e-05 - acc: 1.0000\n",
      "Epoch 26/100\n",
      "923/923 [==============================] - 0s 182us/step - loss: 1.0949e-05 - acc: 1.0000\n",
      "Epoch 27/100\n",
      "923/923 [==============================] - 0s 171us/step - loss: 1.0338e-05 - acc: 1.0000\n",
      "Epoch 28/100\n",
      "923/923 [==============================] - 0s 164us/step - loss: 9.8034e-06 - acc: 1.0000\n",
      "Epoch 29/100\n",
      "923/923 [==============================] - 0s 161us/step - loss: 9.2869e-06 - acc: 1.0000\n",
      "Epoch 30/100\n",
      "923/923 [==============================] - 0s 169us/step - loss: 8.8473e-06 - acc: 1.0000\n",
      "Epoch 31/100\n",
      "923/923 [==============================] - 0s 167us/step - loss: 8.4111e-06 - acc: 1.0000\n",
      "Epoch 32/100\n",
      "923/923 [==============================] - 0s 162us/step - loss: 8.0387e-06 - acc: 1.0000\n",
      "Epoch 33/100\n",
      "923/923 [==============================] - 0s 164us/step - loss: 7.6866e-06 - acc: 1.0000\n",
      "Epoch 34/100\n",
      "923/923 [==============================] - 0s 157us/step - loss: 7.3610e-06 - acc: 1.0000\n",
      "Epoch 35/100\n",
      "923/923 [==============================] - 0s 157us/step - loss: 7.0650e-06 - acc: 1.0000\n",
      "Epoch 36/100\n",
      "923/923 [==============================] - 0s 156us/step - loss: 6.7928e-06 - acc: 1.0000\n",
      "Epoch 37/100\n",
      "923/923 [==============================] - 0s 150us/step - loss: 6.5417e-06 - acc: 1.0000\n",
      "Epoch 38/100\n",
      "923/923 [==============================] - 0s 152us/step - loss: 6.2619e-06 - acc: 1.0000\n",
      "Epoch 39/100\n",
      "923/923 [==============================] - 0s 148us/step - loss: 6.0276e-06 - acc: 1.0000\n",
      "Epoch 40/100\n",
      "923/923 [==============================] - 0s 159us/step - loss: 5.8228e-06 - acc: 1.0000\n",
      "Epoch 41/100\n",
      "923/923 [==============================] - 0s 165us/step - loss: 5.6124e-06 - acc: 1.0000\n",
      "Epoch 42/100\n",
      "923/923 [==============================] - 0s 168us/step - loss: 5.4324e-06 - acc: 1.0000\n",
      "Epoch 43/100\n",
      "923/923 [==============================] - 0s 165us/step - loss: 5.2246e-06 - acc: 1.0000\n",
      "Epoch 44/100\n",
      "923/923 [==============================] - 0s 157us/step - loss: 5.0681e-06 - acc: 1.0000\n",
      "Epoch 45/100\n",
      "923/923 [==============================] - 0s 156us/step - loss: 4.9254e-06 - acc: 1.0000\n",
      "Epoch 46/100\n",
      "923/923 [==============================] - 0s 157us/step - loss: 4.7805e-06 - acc: 1.0000\n",
      "Epoch 47/100\n",
      "923/923 [==============================] - 0s 153us/step - loss: 4.6417e-06 - acc: 1.0000\n",
      "Epoch 48/100\n",
      "923/923 [==============================] - 0s 154us/step - loss: 4.5131e-06 - acc: 1.0000\n",
      "Epoch 49/100\n",
      "923/923 [==============================] - 0s 151us/step - loss: 4.3618e-06 - acc: 1.0000\n",
      "Epoch 50/100\n",
      "923/923 [==============================] - 0s 151us/step - loss: 4.2510e-06 - acc: 1.0000\n",
      "Epoch 51/100\n",
      "923/923 [==============================] - 0s 152us/step - loss: 4.1444e-06 - acc: 1.0000\n",
      "Epoch 52/100\n",
      "923/923 [==============================] - 0s 160us/step - loss: 4.0383e-06 - acc: 1.0000\n",
      "Epoch 53/100\n",
      "923/923 [==============================] - 0s 156us/step - loss: 3.9410e-06 - acc: 1.0000\n",
      "Epoch 54/100\n",
      "923/923 [==============================] - 0s 154us/step - loss: 3.8460e-06 - acc: 1.0000\n",
      "Epoch 55/100\n",
      "923/923 [==============================] - 0s 160us/step - loss: 3.7540e-06 - acc: 1.0000\n",
      "Epoch 56/100\n",
      "923/923 [==============================] - 0s 156us/step - loss: 3.6677e-06 - acc: 1.0000\n",
      "Epoch 57/100\n",
      "923/923 [==============================] - 0s 154us/step - loss: 3.5822e-06 - acc: 1.0000\n",
      "Epoch 58/100\n",
      "923/923 [==============================] - 0s 159us/step - loss: 3.5072e-06 - acc: 1.0000\n",
      "Epoch 59/100\n",
      "923/923 [==============================] - 0s 154us/step - loss: 3.4356e-06 - acc: 1.0000\n",
      "Epoch 60/100\n",
      "923/923 [==============================] - 0s 155us/step - loss: 3.3570e-06 - acc: 1.0000\n",
      "Epoch 61/100\n",
      "923/923 [==============================] - 0s 170us/step - loss: 3.2905e-06 - acc: 1.0000\n",
      "Epoch 62/100\n",
      "923/923 [==============================] - 0s 159us/step - loss: 3.2228e-06 - acc: 1.0000\n",
      "Epoch 63/100\n",
      "923/923 [==============================] - 0s 157us/step - loss: 3.1622e-06 - acc: 1.0000\n",
      "Epoch 64/100\n",
      "923/923 [==============================] - 0s 154us/step - loss: 3.0998e-06 - acc: 1.0000\n",
      "Epoch 65/100\n",
      "923/923 [==============================] - 0s 161us/step - loss: 3.0393e-06 - acc: 1.0000\n",
      "Epoch 66/100\n",
      "923/923 [==============================] - 0s 186us/step - loss: 2.9804e-06 - acc: 1.0000\n",
      "Epoch 67/100\n",
      "923/923 [==============================] - 0s 163us/step - loss: 2.9267e-06 - acc: 1.0000\n",
      "Epoch 68/100\n",
      "923/923 [==============================] - 0s 175us/step - loss: 2.8772e-06 - acc: 1.0000\n",
      "Epoch 69/100\n",
      "923/923 [==============================] - 0s 165us/step - loss: 2.8290e-06 - acc: 1.0000\n",
      "Epoch 70/100\n",
      "923/923 [==============================] - 0s 163us/step - loss: 2.7672e-06 - acc: 1.0000\n",
      "Epoch 71/100\n",
      "923/923 [==============================] - 0s 172us/step - loss: 2.7199e-06 - acc: 1.0000\n",
      "Epoch 72/100\n",
      "923/923 [==============================] - 0s 170us/step - loss: 2.6642e-06 - acc: 1.0000\n",
      "Epoch 73/100\n",
      "923/923 [==============================] - 0s 167us/step - loss: 2.6211e-06 - acc: 1.0000\n",
      "Epoch 74/100\n",
      "923/923 [==============================] - 0s 205us/step - loss: 2.5672e-06 - acc: 1.0000\n",
      "Epoch 75/100\n"
     ]
    },
    {
     "name": "stdout",
     "output_type": "stream",
     "text": [
      "923/923 [==============================] - 0s 162us/step - loss: 2.5264e-06 - acc: 1.0000\n",
      "Epoch 76/100\n",
      "923/923 [==============================] - 0s 159us/step - loss: 2.4881e-06 - acc: 1.0000\n",
      "Epoch 77/100\n",
      "923/923 [==============================] - 0s 163us/step - loss: 2.4480e-06 - acc: 1.0000\n",
      "Epoch 78/100\n",
      "923/923 [==============================] - 0s 163us/step - loss: 2.4067e-06 - acc: 1.0000\n",
      "Epoch 79/100\n",
      "923/923 [==============================] - 0s 158us/step - loss: 2.3680e-06 - acc: 1.0000\n",
      "Epoch 80/100\n",
      "923/923 [==============================] - 0s 162us/step - loss: 2.3359e-06 - acc: 1.0000\n",
      "Epoch 81/100\n",
      "923/923 [==============================] - 0s 160us/step - loss: 2.2926e-06 - acc: 1.0000\n",
      "Epoch 82/100\n",
      "923/923 [==============================] - 0s 162us/step - loss: 2.2621e-06 - acc: 1.0000\n",
      "Epoch 83/100\n",
      "923/923 [==============================] - 0s 161us/step - loss: 2.2294e-06 - acc: 1.0000\n",
      "Epoch 84/100\n",
      "923/923 [==============================] - 0s 161us/step - loss: 2.1996e-06 - acc: 1.0000\n",
      "Epoch 85/100\n",
      "923/923 [==============================] - 0s 164us/step - loss: 2.1714e-06 - acc: 1.0000\n",
      "Epoch 86/100\n",
      "923/923 [==============================] - 0s 161us/step - loss: 2.1427e-06 - acc: 1.0000\n",
      "Epoch 87/100\n",
      "923/923 [==============================] - 0s 193us/step - loss: 2.1145e-06 - acc: 1.0000\n",
      "Epoch 88/100\n",
      "923/923 [==============================] - 0s 169us/step - loss: 2.0900e-06 - acc: 1.0000\n",
      "Epoch 89/100\n",
      "923/923 [==============================] - 0s 166us/step - loss: 2.0658e-06 - acc: 1.0000\n",
      "Epoch 90/100\n",
      "923/923 [==============================] - 0s 166us/step - loss: 2.0386e-06 - acc: 1.0000\n",
      "Epoch 91/100\n",
      "923/923 [==============================] - 0s 168us/step - loss: 2.0132e-06 - acc: 1.0000\n",
      "Epoch 92/100\n",
      "923/923 [==============================] - 0s 161us/step - loss: 1.9823e-06 - acc: 1.0000\n",
      "Epoch 93/100\n",
      "923/923 [==============================] - 0s 159us/step - loss: 1.9578e-06 - acc: 1.0000\n",
      "Epoch 94/100\n",
      "923/923 [==============================] - 0s 162us/step - loss: 1.9356e-06 - acc: 1.0000\n",
      "Epoch 95/100\n",
      "923/923 [==============================] - 0s 165us/step - loss: 1.9149e-06 - acc: 1.0000\n",
      "Epoch 96/100\n",
      "923/923 [==============================] - 0s 162us/step - loss: 1.8934e-06 - acc: 1.0000\n",
      "Epoch 97/100\n",
      "923/923 [==============================] - 0s 170us/step - loss: 1.8682e-06 - acc: 1.0000\n",
      "Epoch 98/100\n",
      "923/923 [==============================] - 0s 172us/step - loss: 1.8418e-06 - acc: 1.0000\n",
      "Epoch 99/100\n",
      "923/923 [==============================] - 0s 163us/step - loss: 1.8222e-06 - acc: 1.0000\n",
      "Epoch 100/100\n",
      "923/923 [==============================] - 0s 167us/step - loss: 1.8022e-06 - acc: 1.0000\n"
     ]
    },
    {
     "data": {
      "text/plain": [
       "<keras.callbacks.History at 0x642f4c7f0>"
      ]
     },
     "execution_count": 23,
     "metadata": {},
     "output_type": "execute_result"
    }
   ],
   "source": [
    "# Fit the model on the training data\n",
    "model.fit(x_train, y_train, nb_epoch=100, batch_size=128)"
   ]
  },
  {
   "cell_type": "code",
   "execution_count": 26,
   "metadata": {},
   "outputs": [],
   "source": [
    "# Setup x_test  fizzbuzz for prime numbers from 1 to 100\n",
    "numbers = np.arange(1, 101)\n",
    "x_test = np.transpose(binary_encode(numbers, NUM_DIGITS))\n",
    "y_test = model.predict_classes(x_test)"
   ]
  },
  {
   "cell_type": "code",
   "execution_count": 28,
   "metadata": {},
   "outputs": [
    {
     "name": "stdout",
     "output_type": "stream",
     "text": [
      "['odd' 'even' 'odd' 'even' 'odd' 'even' 'odd' 'even' 'odd' 'even' 'odd'\n",
      " 'even' 'odd' 'even' 'odd' 'even' 'odd' 'even' 'odd' 'even' 'odd' 'even'\n",
      " 'odd' 'even' 'odd' 'even' 'odd' 'even' 'odd' 'even' 'odd' 'even' 'odd'\n",
      " 'even' 'odd' 'even' 'odd' 'even' 'odd' 'even' 'odd' 'even' 'odd' 'even'\n",
      " 'odd' 'even' 'odd' 'even' 'odd' 'even' 'odd' 'even' 'odd' 'even' 'odd'\n",
      " 'even' 'odd' 'even' 'odd' 'even' 'odd' 'even' 'odd' 'even' 'odd' 'even'\n",
      " 'odd' 'even' 'odd' 'even' 'odd' 'even' 'odd' 'even' 'odd' 'even' 'odd'\n",
      " 'even' 'odd' 'even' 'odd' 'even' 'odd' 'even' 'odd' 'even' 'odd' 'even'\n",
      " 'odd' 'even' 'odd' 'even' 'odd' 'even' 'odd' 'even' 'odd' 'even' 'odd'\n",
      " 'even']\n"
     ]
    }
   ],
   "source": [
    "# Setup predicted output\n",
    "predictions = np.vectorize(decode_even_odd)(y_test)\n",
    "print (predictions)"
   ]
  },
  {
   "cell_type": "code",
   "execution_count": 30,
   "metadata": {},
   "outputs": [
    {
     "data": {
      "text/plain": [
       "array(['odd', 'even', 'odd', 'even', 'odd', 'even', 'odd', 'even', 'odd',\n",
       "       'even', 'odd', 'even', 'odd', 'even', 'odd', 'even', 'odd', 'even',\n",
       "       'odd', 'even', 'odd', 'even', 'odd', 'even', 'odd', 'even', 'odd',\n",
       "       'even', 'odd', 'even', 'odd', 'even', 'odd', 'even', 'odd', 'even',\n",
       "       'odd', 'even', 'odd', 'even', 'odd', 'even', 'odd', 'even', 'odd',\n",
       "       'even', 'odd', 'even', 'odd', 'even', 'odd', 'even', 'odd', 'even',\n",
       "       'odd', 'even', 'odd', 'even', 'odd', 'even', 'odd', 'even', 'odd',\n",
       "       'even', 'odd', 'even', 'odd', 'even', 'odd', 'even', 'odd', 'even',\n",
       "       'odd', 'even', 'odd', 'even', 'odd', 'even', 'odd', 'even', 'odd',\n",
       "       'even', 'odd', 'even', 'odd', 'even', 'odd', 'even', 'odd', 'even',\n",
       "       'odd', 'even', 'odd', 'even', 'odd', 'even', 'odd', 'even', 'odd',\n",
       "       'even'], dtype='<U32')"
      ]
     },
     "execution_count": 30,
     "metadata": {},
     "output_type": "execute_result"
    }
   ],
   "source": [
    "actual = np.array([])\n",
    "for i in numbers:\n",
    "    if i % 2 == 0:\n",
    "        actual = np.append(actual, \"even\")\n",
    "    else:\n",
    "        actual = np.append(actual, \"odd\")\n",
    "\n",
    "actual"
   ]
  },
  {
   "cell_type": "code",
   "execution_count": 34,
   "metadata": {},
   "outputs": [
    {
     "name": "stdout",
     "output_type": "stream",
     "text": [
      "1.0\n"
     ]
    }
   ],
   "source": [
    "# Let's evaluate the model's predictions\n",
    "evaluate = np.array(actual == predictions)\n",
    "print (np.count_nonzero(evaluate == True) / 100)"
   ]
  },
  {
   "cell_type": "markdown",
   "metadata": {},
   "source": [
    "### Ok, 100% accuracy... but what if we send the model random numbers?"
   ]
  },
  {
   "cell_type": "code",
   "execution_count": 59,
   "metadata": {},
   "outputs": [
    {
     "data": {
      "text/plain": [
       "array([721, 715, 682, 765, 671, 609, 321, 254, 960, 677])"
      ]
     },
     "execution_count": 59,
     "metadata": {},
     "output_type": "execute_result"
    }
   ],
   "source": [
    "random_numbers = np.random.randint(1023, size=10000)\n",
    "random_numbers[:10]"
   ]
  },
  {
   "cell_type": "code",
   "execution_count": 60,
   "metadata": {},
   "outputs": [],
   "source": [
    "x_test = np.transpose(binary_encode(random_numbers, NUM_DIGITS))\n",
    "y_test = model.predict_classes(x_test)"
   ]
  },
  {
   "cell_type": "code",
   "execution_count": 61,
   "metadata": {},
   "outputs": [],
   "source": [
    "predictions = np.vectorize(decode_even_odd)(y_test)"
   ]
  },
  {
   "cell_type": "code",
   "execution_count": 62,
   "metadata": {},
   "outputs": [
    {
     "data": {
      "text/plain": [
       "(10000,)"
      ]
     },
     "execution_count": 62,
     "metadata": {},
     "output_type": "execute_result"
    }
   ],
   "source": [
    "predictions.shape"
   ]
  },
  {
   "cell_type": "code",
   "execution_count": 63,
   "metadata": {},
   "outputs": [
    {
     "data": {
      "text/plain": [
       "array(['odd', 'odd', 'even', ..., 'odd', 'odd', 'even'], dtype='<U32')"
      ]
     },
     "execution_count": 63,
     "metadata": {},
     "output_type": "execute_result"
    }
   ],
   "source": [
    "actual = np.array([])\n",
    "for i in random_numbers:\n",
    "    if i % 2 == 0:\n",
    "        actual = np.append(actual, \"even\")\n",
    "    else:\n",
    "        actual = np.append(actual, \"odd\")\n",
    "\n",
    "actual"
   ]
  },
  {
   "cell_type": "code",
   "execution_count": 64,
   "metadata": {},
   "outputs": [
    {
     "data": {
      "text/plain": [
       "(10000,)"
      ]
     },
     "execution_count": 64,
     "metadata": {},
     "output_type": "execute_result"
    }
   ],
   "source": [
    "actual.shape"
   ]
  },
  {
   "cell_type": "code",
   "execution_count": 65,
   "metadata": {},
   "outputs": [
    {
     "name": "stdout",
     "output_type": "stream",
     "text": [
      "100.0\n"
     ]
    }
   ],
   "source": [
    "# Let's evaluate the model's predictions\n",
    "evaluate = np.array(actual == predictions)\n",
    "print (np.count_nonzero(evaluate == True) / 100)"
   ]
  },
  {
   "cell_type": "code",
   "execution_count": null,
   "metadata": {},
   "outputs": [],
   "source": []
  },
  {
   "cell_type": "code",
   "execution_count": null,
   "metadata": {},
   "outputs": [],
   "source": []
  }
 ],
 "metadata": {
  "kernelspec": {
   "display_name": "Python 3",
   "language": "python",
   "name": "python3"
  },
  "language_info": {
   "codemirror_mode": {
    "name": "ipython",
    "version": 3
   },
   "file_extension": ".py",
   "mimetype": "text/x-python",
   "name": "python",
   "nbconvert_exporter": "python",
   "pygments_lexer": "ipython3",
   "version": "3.7.3"
  }
 },
 "nbformat": 4,
 "nbformat_minor": 4
}
