{
 "cells": [
  {
   "cell_type": "markdown",
   "metadata": {},
   "source": [
    "# Keras Network to Classify Odd/Even Numbers"
   ]
  },
  {
   "cell_type": "code",
   "execution_count": 1,
   "metadata": {},
   "outputs": [
    {
     "name": "stderr",
     "output_type": "stream",
     "text": [
      "Using TensorFlow backend.\n"
     ]
    }
   ],
   "source": [
    "import warnings\n",
    "warnings.filterwarnings('ignore')\n",
    "\n",
    "# imports\n",
    "import numpy as np\n",
    "from keras.models import Sequential\n",
    "from keras.layers import Dense\n",
    "from keras.utils import np_utils\n",
    "from keras.models import Model"
   ]
  },
  {
   "cell_type": "markdown",
   "metadata": {},
   "source": [
    "## Big Picture\n",
    "- Supervised learning\n",
    "- Neural networks, like other supervised algorithms, try to approximate any arbitrary function, given enough data"
   ]
  },
  {
   "cell_type": "markdown",
   "metadata": {},
   "source": [
    "## Goal\n",
    "- Train a neural network classifier to classify if an integer is odd or even."
   ]
  },
  {
   "cell_type": "markdown",
   "metadata": {},
   "source": [
    "## Workflow\n",
    "1. Setup training data\n",
    "2. Create binary encoding for the input layer\n",
    "3. Create binary decoding for the ouput layer\n",
    "4. Create the model, add layers, and train/fit\n",
    "5. Create predictions on new data\n",
    "3. Evaluate the performance of the classifier"
   ]
  },
  {
   "cell_type": "code",
   "execution_count": 2,
   "metadata": {},
   "outputs": [],
   "source": [
    "# Specify the number of binary digits. \n",
    "NUM_DIGITS = 10"
   ]
  },
  {
   "cell_type": "code",
   "execution_count": 3,
   "metadata": {},
   "outputs": [],
   "source": [
    "## Setup the training data for 101-1023. 1023 is the highest number countable with 10 binary digits\n",
    "raw_training_data = np.array(range(101, 2**NUM_DIGITS))"
   ]
  },
  {
   "cell_type": "code",
   "execution_count": 4,
   "metadata": {},
   "outputs": [
    {
     "data": {
      "text/plain": [
       "array([101, 102, 103, 104, 105, 106, 107, 108, 109, 110])"
      ]
     },
     "execution_count": 4,
     "metadata": {},
     "output_type": "execute_result"
    }
   ],
   "source": [
    "raw_training_data[:10]"
   ]
  },
  {
   "cell_type": "code",
   "execution_count": 5,
   "metadata": {},
   "outputs": [],
   "source": [
    "## Binary Encoding function\n",
    "# In order to binary encode the input values\n",
    "def binary_encode(i, NUM_DIGITS):\n",
    "    return np.array([i >> d & 1 for d in range(NUM_DIGITS)])"
   ]
  },
  {
   "cell_type": "code",
   "execution_count": 6,
   "metadata": {},
   "outputs": [
    {
     "name": "stdout",
     "output_type": "stream",
     "text": [
      "number \t [binary digits]\n",
      "1 \t [1 0 0 0 0 0 0 0 0 0]\n",
      "2 \t [0 1 0 0 0 0 0 0 0 0]\n",
      "3 \t [1 1 0 0 0 0 0 0 0 0]\n",
      "4 \t [0 0 1 0 0 0 0 0 0 0]\n",
      "4 \t [1 0 1 0 0 0 0 0 0 0]\n"
     ]
    }
   ],
   "source": [
    "print(\"number \\t [binary digits]\")\n",
    "print(1, \"\\t\", binary_encode(1, NUM_DIGITS))\n",
    "print(2, \"\\t\", binary_encode(2, NUM_DIGITS))\n",
    "print(3, \"\\t\", binary_encode(3, NUM_DIGITS))\n",
    "print(4, \"\\t\", binary_encode(4, NUM_DIGITS))\n",
    "print(4, \"\\t\", binary_encode(5, NUM_DIGITS))"
   ]
  },
  {
   "cell_type": "code",
   "execution_count": 7,
   "metadata": {},
   "outputs": [],
   "source": [
    "# encode the training data\n",
    "encoded_training_data = [binary_encode(i, NUM_DIGITS) for i in raw_training_data]"
   ]
  },
  {
   "cell_type": "code",
   "execution_count": 8,
   "metadata": {},
   "outputs": [],
   "source": [
    "x_train = np.array(encoded_training_data)"
   ]
  },
  {
   "cell_type": "code",
   "execution_count": 9,
   "metadata": {},
   "outputs": [
    {
     "data": {
      "text/plain": [
       "array([[1, 0, 1, ..., 0, 0, 0],\n",
       "       [0, 1, 1, ..., 0, 0, 0],\n",
       "       [1, 1, 1, ..., 0, 0, 0],\n",
       "       ...,\n",
       "       [1, 0, 1, ..., 1, 1, 1],\n",
       "       [0, 1, 1, ..., 1, 1, 1],\n",
       "       [1, 1, 1, ..., 1, 1, 1]])"
      ]
     },
     "execution_count": 9,
     "metadata": {},
     "output_type": "execute_result"
    }
   ],
   "source": [
    "x_train"
   ]
  },
  {
   "cell_type": "code",
   "execution_count": 10,
   "metadata": {},
   "outputs": [],
   "source": [
    "# Encode \"even\" and \"odd\" to zero or 1\n",
    "# If we had more than 2 options, we'd one hot encode to make an array\n",
    "def encode_even_odd(i):\n",
    "    if i % 2 == 0:\n",
    "        return [0]\n",
    "    else:\n",
    "        return [1]\n",
    "\n",
    "assert encode_even_odd(2) == [0]\n",
    "assert encode_even_odd(3) == [1]"
   ]
  },
  {
   "cell_type": "code",
   "execution_count": 11,
   "metadata": {},
   "outputs": [],
   "source": [
    "# y_train is the encoded output. \n",
    "# This is our \"labeled data\" for supervised learning\n",
    "y_train = np.array([encode_even_odd(i) for i in range(101, 2 ** NUM_DIGITS)])"
   ]
  },
  {
   "cell_type": "code",
   "execution_count": 12,
   "metadata": {},
   "outputs": [
    {
     "name": "stdout",
     "output_type": "stream",
     "text": [
      "Number representeed as a decimal 101\n",
      "Number represented as binary in a list: [1 0 1 0 0 1 1 0 0 0]\n",
      "0 for even, 1 for odd: [1]\n"
     ]
    }
   ],
   "source": [
    "print(\"Number representeed as a decimal\", raw_training_data[0])\n",
    "print(\"Number represented as binary in a list:\", x_train[0])\n",
    "print(\"0 for even, 1 for odd:\", y_train[0])"
   ]
  },
  {
   "cell_type": "markdown",
   "metadata": {},
   "source": [
    "## Compare raw inputs to the lables\n",
    "- The first five values in the input tensor are 101, 102, 103, 104, and 105\n",
    "- The encoded labels specify \"odd\", \"even\", \"odd\", \"even\", and then \"odd\"\n",
    "- Remember that training a classifier is supervised learning with labeled data"
   ]
  },
  {
   "cell_type": "code",
   "execution_count": 30,
   "metadata": {},
   "outputs": [
    {
     "name": "stdout",
     "output_type": "stream",
     "text": [
      "Raw training data [101 102 103 104 105]\n",
      "[1 0 1 0 1]\n"
     ]
    }
   ],
   "source": [
    "print(\"Raw training data\", raw_training_data[:5])\n",
    "print(y_train[:5].flatten())"
   ]
  },
  {
   "cell_type": "code",
   "execution_count": 14,
   "metadata": {},
   "outputs": [],
   "source": [
    "# Convert from binary back to the ouput string\n",
    "def decode_even_odd(n):\n",
    "    if n == 0:\n",
    "        return \"even\"\n",
    "    else:\n",
    "        return \"odd\"\n",
    "\n",
    "assert decode_even_odd(0) == 'even'\n",
    "assert decode_even_odd(1) == 'odd'"
   ]
  },
  {
   "cell_type": "code",
   "execution_count": 15,
   "metadata": {},
   "outputs": [],
   "source": [
    "# Another way I've seen this decoding written (especially with one hot encoded options)\n",
    "# Convert from binary back to the ouput string\n",
    "def decode_even_odd2(n):\n",
    "    return [\"even\", \"odd\"][n]\n",
    "\n",
    "assert decode_even_odd2(0) == 'even'\n",
    "assert decode_even_odd2(1) == 'odd'"
   ]
  },
  {
   "cell_type": "code",
   "execution_count": 16,
   "metadata": {},
   "outputs": [
    {
     "name": "stdout",
     "output_type": "stream",
     "text": [
      "WARNING:tensorflow:From /usr/local/anaconda3/lib/python3.7/site-packages/keras/backend/tensorflow_backend.py:74: The name tf.get_default_graph is deprecated. Please use tf.compat.v1.get_default_graph instead.\n",
      "\n",
      "WARNING:tensorflow:From /usr/local/anaconda3/lib/python3.7/site-packages/keras/backend/tensorflow_backend.py:517: The name tf.placeholder is deprecated. Please use tf.compat.v1.placeholder instead.\n",
      "\n",
      "WARNING:tensorflow:From /usr/local/anaconda3/lib/python3.7/site-packages/keras/backend/tensorflow_backend.py:4138: The name tf.random_uniform is deprecated. Please use tf.random.uniform instead.\n",
      "\n",
      "WARNING:tensorflow:From /usr/local/anaconda3/lib/python3.7/site-packages/keras/optimizers.py:790: The name tf.train.Optimizer is deprecated. Please use tf.compat.v1.train.Optimizer instead.\n",
      "\n",
      "WARNING:tensorflow:From /usr/local/anaconda3/lib/python3.7/site-packages/keras/backend/tensorflow_backend.py:3341: The name tf.log is deprecated. Please use tf.math.log instead.\n",
      "\n"
     ]
    }
   ],
   "source": [
    "# Now let's build our model, add layers, compile, and fit it!\n",
    "model = Sequential()\n",
    "\n",
    "## Add the model's layers.\n",
    "# These are defaults and they work pretty well\n",
    "model.add(Dense(1000, input_dim=NUM_DIGITS, activation=\"relu\"))\n",
    "model.add(Dense(1000, activation=\"relu\"))\n",
    "model.add(Dense(4, activation=\"softmax\"))\n",
    "\n",
    "model.compile(loss='sparse_categorical_crossentropy', optimizer='adagrad', metrics=[\"accuracy\"])"
   ]
  },
  {
   "cell_type": "code",
   "execution_count": 32,
   "metadata": {},
   "outputs": [
    {
     "name": "stdout",
     "output_type": "stream",
     "text": [
      "Epoch 1/3\n",
      "923/923 [==============================] - 0s 171us/step - loss: 4.5523e-06 - acc: 1.0000\n",
      "Epoch 2/3\n",
      "923/923 [==============================] - 0s 180us/step - loss: 4.4970e-06 - acc: 1.0000\n",
      "Epoch 3/3\n",
      "923/923 [==============================] - 0s 174us/step - loss: 4.4490e-06 - acc: 1.0000\n"
     ]
    },
    {
     "data": {
      "text/plain": [
       "<keras.callbacks.History at 0x646dae278>"
      ]
     },
     "execution_count": 32,
     "metadata": {},
     "output_type": "execute_result"
    }
   ],
   "source": [
    "# Fit the model on the training data\n",
    "model.fit(x_train, y_train, nb_epoch=3, batch_size=128)"
   ]
  },
  {
   "cell_type": "code",
   "execution_count": 18,
   "metadata": {},
   "outputs": [],
   "source": [
    "# Setup x_test for numbers from 1 to 100 (the model hasn't seen these at all)\n",
    "numbers = np.arange(1, 101)\n",
    "x_test = np.transpose(binary_encode(numbers, NUM_DIGITS))\n",
    "y_test = model.predict_classes(x_test)"
   ]
  },
  {
   "cell_type": "code",
   "execution_count": 19,
   "metadata": {},
   "outputs": [
    {
     "name": "stdout",
     "output_type": "stream",
     "text": [
      "['odd' 'even' 'odd' 'even' 'odd' 'even' 'odd' 'even' 'odd' 'even' 'odd'\n",
      " 'even' 'odd' 'even' 'odd' 'even' 'odd' 'even' 'odd' 'even' 'odd' 'even'\n",
      " 'odd' 'even' 'odd' 'even' 'odd' 'even' 'odd' 'even' 'odd' 'even' 'odd'\n",
      " 'even' 'odd' 'even' 'odd' 'even' 'odd' 'even' 'odd' 'even' 'odd' 'even'\n",
      " 'odd' 'even' 'odd' 'even' 'odd' 'even' 'odd' 'even' 'odd' 'even' 'odd'\n",
      " 'even' 'odd' 'even' 'odd' 'even' 'odd' 'even' 'odd' 'even' 'odd' 'even'\n",
      " 'odd' 'even' 'odd' 'even' 'odd' 'even' 'odd' 'even' 'odd' 'even' 'odd'\n",
      " 'even' 'odd' 'even' 'odd' 'even' 'odd' 'even' 'odd' 'even' 'odd' 'even'\n",
      " 'odd' 'even' 'odd' 'even' 'odd' 'even' 'odd' 'even' 'odd' 'even' 'odd'\n",
      " 'even']\n"
     ]
    }
   ],
   "source": [
    "# Setup predicted output\n",
    "predictions = np.vectorize(decode_even_odd)(y_test)\n",
    "print (predictions)"
   ]
  },
  {
   "cell_type": "code",
   "execution_count": 20,
   "metadata": {},
   "outputs": [
    {
     "data": {
      "text/plain": [
       "array(['odd', 'even', 'odd', 'even', 'odd', 'even', 'odd', 'even', 'odd',\n",
       "       'even', 'odd', 'even', 'odd', 'even', 'odd', 'even', 'odd', 'even',\n",
       "       'odd', 'even', 'odd', 'even', 'odd', 'even', 'odd', 'even', 'odd',\n",
       "       'even', 'odd', 'even', 'odd', 'even', 'odd', 'even', 'odd', 'even',\n",
       "       'odd', 'even', 'odd', 'even', 'odd', 'even', 'odd', 'even', 'odd',\n",
       "       'even', 'odd', 'even', 'odd', 'even', 'odd', 'even', 'odd', 'even',\n",
       "       'odd', 'even', 'odd', 'even', 'odd', 'even', 'odd', 'even', 'odd',\n",
       "       'even', 'odd', 'even', 'odd', 'even', 'odd', 'even', 'odd', 'even',\n",
       "       'odd', 'even', 'odd', 'even', 'odd', 'even', 'odd', 'even', 'odd',\n",
       "       'even', 'odd', 'even', 'odd', 'even', 'odd', 'even', 'odd', 'even',\n",
       "       'odd', 'even', 'odd', 'even', 'odd', 'even', 'odd', 'even', 'odd',\n",
       "       'even'], dtype='<U32')"
      ]
     },
     "execution_count": 20,
     "metadata": {},
     "output_type": "execute_result"
    }
   ],
   "source": [
    "actual = np.array([])\n",
    "for i in numbers:\n",
    "    if i % 2 == 0:\n",
    "        actual = np.append(actual, \"even\")\n",
    "    else:\n",
    "        actual = np.append(actual, \"odd\")\n",
    "\n",
    "actual"
   ]
  },
  {
   "cell_type": "code",
   "execution_count": 21,
   "metadata": {},
   "outputs": [
    {
     "name": "stdout",
     "output_type": "stream",
     "text": [
      "1.0\n"
     ]
    }
   ],
   "source": [
    "# Let's evaluate the model's predictions\n",
    "evaluate = np.array(actual == predictions)\n",
    "print (np.count_nonzero(evaluate == True) / 100)"
   ]
  },
  {
   "cell_type": "markdown",
   "metadata": {},
   "source": [
    "### Ok, 100% accuracy... but what if we send the model random numbers?"
   ]
  },
  {
   "cell_type": "code",
   "execution_count": 22,
   "metadata": {},
   "outputs": [
    {
     "data": {
      "text/plain": [
       "array([ 501,  847,  442,  828,  559,  459,  373, 1022,  215,  942])"
      ]
     },
     "execution_count": 22,
     "metadata": {},
     "output_type": "execute_result"
    }
   ],
   "source": [
    "random_numbers = np.random.randint(1023, size=10000)\n",
    "random_numbers[:10]"
   ]
  },
  {
   "cell_type": "code",
   "execution_count": 23,
   "metadata": {},
   "outputs": [],
   "source": [
    "x_test = np.transpose(binary_encode(random_numbers, NUM_DIGITS))\n",
    "y_test = model.predict_classes(x_test)"
   ]
  },
  {
   "cell_type": "code",
   "execution_count": 24,
   "metadata": {},
   "outputs": [],
   "source": [
    "predictions = np.vectorize(decode_even_odd)(y_test)"
   ]
  },
  {
   "cell_type": "code",
   "execution_count": 25,
   "metadata": {},
   "outputs": [
    {
     "data": {
      "text/plain": [
       "(10000,)"
      ]
     },
     "execution_count": 25,
     "metadata": {},
     "output_type": "execute_result"
    }
   ],
   "source": [
    "predictions.shape"
   ]
  },
  {
   "cell_type": "code",
   "execution_count": 26,
   "metadata": {},
   "outputs": [
    {
     "data": {
      "text/plain": [
       "array(['odd', 'odd', 'even', ..., 'even', 'odd', 'odd'], dtype='<U32')"
      ]
     },
     "execution_count": 26,
     "metadata": {},
     "output_type": "execute_result"
    }
   ],
   "source": [
    "actual = np.array([])\n",
    "for i in random_numbers:\n",
    "    if i % 2 == 0:\n",
    "        actual = np.append(actual, \"even\")\n",
    "    else:\n",
    "        actual = np.append(actual, \"odd\")\n",
    "\n",
    "actual"
   ]
  },
  {
   "cell_type": "code",
   "execution_count": 27,
   "metadata": {},
   "outputs": [
    {
     "data": {
      "text/plain": [
       "(10000,)"
      ]
     },
     "execution_count": 27,
     "metadata": {},
     "output_type": "execute_result"
    }
   ],
   "source": [
    "actual.shape"
   ]
  },
  {
   "cell_type": "code",
   "execution_count": 28,
   "metadata": {},
   "outputs": [
    {
     "name": "stdout",
     "output_type": "stream",
     "text": [
      "100.0\n"
     ]
    }
   ],
   "source": [
    "# Let's evaluate the model's predictions\n",
    "evaluate = np.array(actual == predictions)\n",
    "print (np.count_nonzero(evaluate == True) / 100)"
   ]
  },
  {
   "cell_type": "code",
   "execution_count": 29,
   "metadata": {},
   "outputs": [],
   "source": [
    "# make predictions on 1-100 \n",
    "# make predictions on 1024-2048\n"
   ]
  },
  {
   "cell_type": "code",
   "execution_count": null,
   "metadata": {},
   "outputs": [],
   "source": []
  }
 ],
 "metadata": {
  "kernelspec": {
   "display_name": "Python 3",
   "language": "python",
   "name": "python3"
  },
  "language_info": {
   "codemirror_mode": {
    "name": "ipython",
    "version": 3
   },
   "file_extension": ".py",
   "mimetype": "text/x-python",
   "name": "python",
   "nbconvert_exporter": "python",
   "pygments_lexer": "ipython3",
   "version": "3.7.3"
  }
 },
 "nbformat": 4,
 "nbformat_minor": 4
}
