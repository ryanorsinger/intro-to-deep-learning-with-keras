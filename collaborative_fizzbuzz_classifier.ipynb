{
 "cells": [
  {
   "cell_type": "code",
   "execution_count": 1,
   "metadata": {},
   "outputs": [],
   "source": [
    "# Write out the problem statement\n",
    "# Ask any clarifiying questions about that problem\n",
    "# Re-state your understanding of the problem to the interviewer and confirm your understanding is correct\n",
    "# Is my understanding of the problem correct?"
   ]
  },
  {
   "cell_type": "code",
   "execution_count": null,
   "metadata": {},
   "outputs": [],
   "source": [
    "# Write a program that outputs the numbers 1-100\n",
    "# If the number is a multiple of 3, output \"Fizz\"\n",
    "# If the number is a multiple of 5, output \"Buzz\"\n",
    "# If the number is a multiple of both 3 and 5, output \"FizzBuzz\"\n",
    "# Otherwise, output the number itself"
   ]
  },
  {
   "cell_type": "code",
   "execution_count": 5,
   "metadata": {},
   "outputs": [
    {
     "name": "stdout",
     "output_type": "stream",
     "text": [
      "1\n",
      "2\n",
      "Fizz\n",
      "4\n",
      "Buzz\n",
      "Fizz\n",
      "7\n",
      "8\n",
      "Fizz\n",
      "Buzz\n",
      "11\n",
      "Fizz\n",
      "13\n",
      "14\n",
      "FizzBuzz\n",
      "16\n",
      "17\n",
      "Fizz\n",
      "19\n",
      "Buzz\n",
      "Fizz\n",
      "22\n",
      "23\n",
      "Fizz\n",
      "Buzz\n",
      "26\n",
      "Fizz\n",
      "28\n",
      "29\n",
      "FizzBuzz\n",
      "31\n",
      "32\n",
      "Fizz\n",
      "34\n",
      "Buzz\n",
      "Fizz\n",
      "37\n",
      "38\n",
      "Fizz\n",
      "Buzz\n",
      "41\n",
      "Fizz\n",
      "43\n",
      "44\n",
      "FizzBuzz\n",
      "46\n",
      "47\n",
      "Fizz\n",
      "49\n",
      "Buzz\n",
      "Fizz\n",
      "52\n",
      "53\n",
      "Fizz\n",
      "Buzz\n",
      "56\n",
      "Fizz\n",
      "58\n",
      "59\n",
      "FizzBuzz\n",
      "61\n",
      "62\n",
      "Fizz\n",
      "64\n",
      "Buzz\n",
      "Fizz\n",
      "67\n",
      "68\n",
      "Fizz\n",
      "Buzz\n",
      "71\n",
      "Fizz\n",
      "73\n",
      "74\n",
      "FizzBuzz\n",
      "76\n",
      "77\n",
      "Fizz\n",
      "79\n",
      "Buzz\n",
      "Fizz\n",
      "82\n",
      "83\n",
      "Fizz\n",
      "Buzz\n",
      "86\n",
      "Fizz\n",
      "88\n",
      "89\n",
      "FizzBuzz\n",
      "91\n",
      "92\n",
      "Fizz\n",
      "94\n",
      "Buzz\n",
      "Fizz\n",
      "97\n",
      "98\n",
      "Fizz\n",
      "Buzz\n"
     ]
    }
   ],
   "source": [
    "# do you want this a function?\n",
    "def fizzbuzz(x):\n",
    "    if x % 15 == 0:\n",
    "        return \"FizzBuzz\"\n",
    "    elif x % 5 == 0:\n",
    "        return \"Buzz\"\n",
    "    elif x % 3 == 0:\n",
    "        return \"Fizz\"\n",
    "    else:\n",
    "        return x\n",
    "\n",
    "# Example list comprehension\n",
    "for i in range(1, 101):\n",
    "    print(fizzbuzz(i))"
   ]
  },
  {
   "cell_type": "code",
   "execution_count": null,
   "metadata": {},
   "outputs": [],
   "source": [
    "# classifying fizzbuzz for 1-100 is the goal == we want to train on other numbers, then predict Y for 1-100"
   ]
  },
  {
   "cell_type": "markdown",
   "metadata": {},
   "source": [
    "## Keras Workflow\n",
    "- Setup training data\n",
    "- Setup labels\n",
    "- Encode the inputs\n",
    "- Write a decoder for the outputs\n",
    "- build a model, fit/train on training data\n",
    "- Evaluate the model on test data\n",
    "- We can use .predict_classes on out-of-sample data to make predictions"
   ]
  },
  {
   "cell_type": "code",
   "execution_count": 48,
   "metadata": {},
   "outputs": [],
   "source": [
    "import warnings\n",
    "warnings.filterwarnings('ignore')\n",
    "\n",
    "# imports\n",
    "import numpy as np\n",
    "from keras.models import Sequential\n",
    "from keras.layers import Dense\n",
    "from keras.utils import np_utils\n",
    "from keras.models import Model\n",
    "\n",
    "np.random.seed(23)"
   ]
  },
  {
   "cell_type": "code",
   "execution_count": 93,
   "metadata": {},
   "outputs": [],
   "source": [
    "# specify the number of binary digits, variable so we can change it\n",
    "num_digits = 12"
   ]
  },
  {
   "cell_type": "code",
   "execution_count": 94,
   "metadata": {},
   "outputs": [
    {
     "data": {
      "text/plain": [
       "array([ 536, 3826, 2468])"
      ]
     },
     "execution_count": 94,
     "metadata": {},
     "output_type": "execute_result"
    }
   ],
   "source": [
    "# let's setup our training data\n",
    "raw_training_data = np.random.randint(101, 2**num_digits, 2**num_digits - 102)\n",
    "raw_training_data[0:3]"
   ]
  },
  {
   "cell_type": "code",
   "execution_count": 95,
   "metadata": {},
   "outputs": [
    {
     "data": {
      "text/plain": [
       "922"
      ]
     },
     "execution_count": 95,
     "metadata": {},
     "output_type": "execute_result"
    }
   ],
   "source": [
    "len(np.arange(101, 1023))"
   ]
  },
  {
   "cell_type": "code",
   "execution_count": 96,
   "metadata": {},
   "outputs": [
    {
     "data": {
      "text/plain": [
       "(3994,)"
      ]
     },
     "execution_count": 96,
     "metadata": {},
     "output_type": "execute_result"
    }
   ],
   "source": [
    "\n",
    "raw_training_data.shape"
   ]
  },
  {
   "cell_type": "code",
   "execution_count": 97,
   "metadata": {},
   "outputs": [],
   "source": [
    "\n",
    "# List out the state space. What are the different states that the data could be in:\n",
    "# there's only 4 options/states in the FizzBuzz setup\n",
    "# A number is a multiple of 3 and 5, only 3, only 5, or it ain't\n",
    "# Now we'll need to one hot encode the training data for y\n",
    "def fizz_buzz_encode(i):\n",
    "    if i % 15 == 0:\n",
    "        return np.array([0, 0, 0, 1]) # encoding for \"fizzbuzz\"\n",
    "    elif i % 5 == 0: \n",
    "        return np.array([0, 0, 1, 0]) # encoding for \"buzz\"\n",
    "    elif i % 3  == 0: \n",
    "        return np.array([0, 1, 0, 0]) # encoding for \"fizz\"\n",
    "    else:\n",
    "        return np.array([1, 0, 0, 0]) # encoding for the number output"
   ]
  },
  {
   "cell_type": "code",
   "execution_count": 98,
   "metadata": {},
   "outputs": [],
   "source": [
    "## Binary Encoding function\n",
    "# In order to binary encode the input values\n",
    "def binary_encode(i, NUM_DIGITS):\n",
    "    return np.array([i >> d & 1 for d in range(NUM_DIGITS)])"
   ]
  },
  {
   "cell_type": "code",
   "execution_count": 99,
   "metadata": {},
   "outputs": [
    {
     "data": {
      "text/plain": [
       "array([1, 0, 0, 0, 0, 0, 0, 0, 0, 0, 0, 0])"
      ]
     },
     "execution_count": 99,
     "metadata": {},
     "output_type": "execute_result"
    }
   ],
   "source": [
    "binary_encode(1, num_digits)"
   ]
  },
  {
   "cell_type": "code",
   "execution_count": 100,
   "metadata": {},
   "outputs": [],
   "source": [
    "encoded_training_data = np.array([binary_encode(i, num_digits) for i in raw_training_data])"
   ]
  },
  {
   "cell_type": "code",
   "execution_count": 101,
   "metadata": {},
   "outputs": [
    {
     "data": {
      "text/plain": [
       "array([0, 0, 0, 1, 1, 0, 0, 0, 0, 1, 0, 0])"
      ]
     },
     "execution_count": 101,
     "metadata": {},
     "output_type": "execute_result"
    }
   ],
   "source": [
    "x_train = np.array(encoded_training_data)\n",
    "x_train[0]"
   ]
  },
  {
   "cell_type": "code",
   "execution_count": 102,
   "metadata": {},
   "outputs": [
    {
     "name": "stdout",
     "output_type": "stream",
     "text": [
      "Return only the number [1 0 0 0]\n",
      "Multiple of 3 [0 1 0 0]\n",
      "Multiple of 5 [0 0 1 0]\n",
      "Return only the number [1 0 0 0]\n",
      "Multiple of both 3 and 5 [0 0 0 1]\n"
     ]
    }
   ],
   "source": [
    "print(\"Return only the number\", fizz_buzz_encode(1))\n",
    "print(\"Multiple of 3\", fizz_buzz_encode(3))\n",
    "print(\"Multiple of 5\", fizz_buzz_encode(5))\n",
    "print(\"Return only the number\", fizz_buzz_encode(7))\n",
    "print(\"Multiple of both 3 and 5\", fizz_buzz_encode(15))"
   ]
  },
  {
   "cell_type": "code",
   "execution_count": 103,
   "metadata": {},
   "outputs": [],
   "source": [
    "# Y_train is the labels for our supervised algorithm\n",
    "y_train = np.array([fizz_buzz_encode(i) for i in raw_training_data])"
   ]
  },
  {
   "cell_type": "code",
   "execution_count": 104,
   "metadata": {},
   "outputs": [
    {
     "name": "stdout",
     "output_type": "stream",
     "text": [
      "536\n",
      "[0 0 0 1 1 0 0 0 0 1 0 0]\n",
      "[1 0 0 0]\n"
     ]
    }
   ],
   "source": [
    "print(raw_training_data[0])\n",
    "print(x_train[0])\n",
    "print(y_train[0])"
   ]
  },
  {
   "cell_type": "code",
   "execution_count": 111,
   "metadata": {},
   "outputs": [],
   "source": [
    "# convert from binary to fizzbuzz output\n",
    "# decoder\n",
    "def fizz_buzz(i, prediction):\n",
    "    return [str(i), \"fizz\", \"buzz\", \"fizzbuzz\"][prediction]"
   ]
  },
  {
   "cell_type": "code",
   "execution_count": 106,
   "metadata": {},
   "outputs": [],
   "source": [
    "model = Sequential()"
   ]
  },
  {
   "cell_type": "code",
   "execution_count": 107,
   "metadata": {},
   "outputs": [],
   "source": [
    "model.add(Dense(1000, input_dim=num_digits, activation=\"relu\"))\n",
    "model.add(Dense(1000, activation=\"relu\"))\n",
    "\n",
    "# habit => set the number to be the number of possible outcomes\n",
    "model.add(Dense(4, activation=\"softmax\"))"
   ]
  },
  {
   "cell_type": "code",
   "execution_count": 108,
   "metadata": {},
   "outputs": [
    {
     "name": "stdout",
     "output_type": "stream",
     "text": [
      "Model: \"sequential_4\"\n",
      "_________________________________________________________________\n",
      "Layer (type)                 Output Shape              Param #   \n",
      "=================================================================\n",
      "dense_10 (Dense)             (None, 1000)              13000     \n",
      "_________________________________________________________________\n",
      "dense_11 (Dense)             (None, 1000)              1001000   \n",
      "_________________________________________________________________\n",
      "dense_12 (Dense)             (None, 4)                 4004      \n",
      "=================================================================\n",
      "Total params: 1,018,004\n",
      "Trainable params: 1,018,004\n",
      "Non-trainable params: 0\n",
      "_________________________________________________________________\n"
     ]
    }
   ],
   "source": [
    "model.summary()"
   ]
  },
  {
   "cell_type": "code",
   "execution_count": 109,
   "metadata": {},
   "outputs": [],
   "source": [
    "model.compile(loss=\"categorical_crossentropy\", optimizer=\"adagrad\", metrics=[\"accuracy\"])"
   ]
  },
  {
   "cell_type": "code",
   "execution_count": 110,
   "metadata": {},
   "outputs": [
    {
     "name": "stdout",
     "output_type": "stream",
     "text": [
      "Epoch 1/30\n",
      "3994/3994 [==============================] - 1s 339us/step - loss: 1.3265 - accuracy: 0.5135\n",
      "Epoch 2/30\n",
      "3994/3994 [==============================] - 1s 165us/step - loss: 1.1309 - accuracy: 0.5333\n",
      "Epoch 3/30\n",
      "3994/3994 [==============================] - 1s 167us/step - loss: 1.1119 - accuracy: 0.5308\n",
      "Epoch 4/30\n",
      "3994/3994 [==============================] - 1s 179us/step - loss: 1.0907 - accuracy: 0.5371\n",
      "Epoch 5/30\n",
      "3994/3994 [==============================] - 1s 165us/step - loss: 1.0629 - accuracy: 0.5438\n",
      "Epoch 6/30\n",
      "3994/3994 [==============================] - 1s 180us/step - loss: 1.0283 - accuracy: 0.5613\n",
      "Epoch 7/30\n",
      "3994/3994 [==============================] - 1s 174us/step - loss: 0.9845 - accuracy: 0.5826\n",
      "Epoch 8/30\n",
      "3994/3994 [==============================] - 1s 169us/step - loss: 0.9351 - accuracy: 0.6077\n",
      "Epoch 9/30\n",
      "3994/3994 [==============================] - 1s 170us/step - loss: 0.8713 - accuracy: 0.6432\n",
      "Epoch 10/30\n",
      "3994/3994 [==============================] - 1s 163us/step - loss: 0.8111 - accuracy: 0.6778\n",
      "Epoch 11/30\n",
      "3994/3994 [==============================] - 1s 170us/step - loss: 0.7329 - accuracy: 0.7193\n",
      "Epoch 12/30\n",
      "3994/3994 [==============================] - 1s 166us/step - loss: 0.6676 - accuracy: 0.7519\n",
      "Epoch 13/30\n",
      "3994/3994 [==============================] - 1s 181us/step - loss: 0.5803 - accuracy: 0.8067\n",
      "Epoch 14/30\n",
      "3994/3994 [==============================] - 1s 175us/step - loss: 0.5261 - accuracy: 0.8240\n",
      "Epoch 15/30\n",
      "3994/3994 [==============================] - 1s 177us/step - loss: 0.4539 - accuracy: 0.8643\n",
      "Epoch 16/30\n",
      "3994/3994 [==============================] - 1s 175us/step - loss: 0.3992 - accuracy: 0.8911\n",
      "Epoch 17/30\n",
      "3994/3994 [==============================] - 1s 192us/step - loss: 0.3481 - accuracy: 0.9146\n",
      "Epoch 18/30\n",
      "3994/3994 [==============================] - 1s 216us/step - loss: 0.2944 - accuracy: 0.9404\n",
      "Epoch 19/30\n",
      "3994/3994 [==============================] - 1s 182us/step - loss: 0.2657 - accuracy: 0.9469\n",
      "Epoch 20/30\n",
      "3994/3994 [==============================] - 1s 193us/step - loss: 0.2217 - accuracy: 0.9609\n",
      "Epoch 21/30\n",
      "3994/3994 [==============================] - 1s 174us/step - loss: 0.2065 - accuracy: 0.9667\n",
      "Epoch 22/30\n",
      "3994/3994 [==============================] - 1s 192us/step - loss: 0.1727 - accuracy: 0.9750\n",
      "Epoch 23/30\n",
      "3994/3994 [==============================] - 1s 173us/step - loss: 0.1506 - accuracy: 0.9812\n",
      "Epoch 24/30\n",
      "3994/3994 [==============================] - 1s 179us/step - loss: 0.1318 - accuracy: 0.9857\n",
      "Epoch 25/30\n",
      "3994/3994 [==============================] - 1s 195us/step - loss: 0.1199 - accuracy: 0.9882\n",
      "Epoch 26/30\n",
      "3994/3994 [==============================] - 1s 186us/step - loss: 0.1063 - accuracy: 0.9915\n",
      "Epoch 27/30\n",
      "3994/3994 [==============================] - 1s 179us/step - loss: 0.1005 - accuracy: 0.9917\n",
      "Epoch 28/30\n",
      "3994/3994 [==============================] - 1s 182us/step - loss: 0.0864 - accuracy: 0.9935\n",
      "Epoch 29/30\n",
      "3994/3994 [==============================] - 1s 185us/step - loss: 0.0779 - accuracy: 0.9947\n",
      "Epoch 30/30\n",
      "3994/3994 [==============================] - 1s 192us/step - loss: 0.0723 - accuracy: 0.9945\n"
     ]
    },
    {
     "data": {
      "text/plain": [
       "<keras.callbacks.callbacks.History at 0x6445d4c88>"
      ]
     },
     "execution_count": 110,
     "metadata": {},
     "output_type": "execute_result"
    }
   ],
   "source": [
    "model.fit(x_train, y_train, nb_epoch=30, batch_size=128)"
   ]
  },
  {
   "cell_type": "code",
   "execution_count": 112,
   "metadata": {},
   "outputs": [
    {
     "data": {
      "text/plain": [
       "array([[1, 0, 0, 0, 0, 0, 0, 0, 0, 0, 0, 0],\n",
       "       [0, 1, 0, 0, 0, 0, 0, 0, 0, 0, 0, 0]])"
      ]
     },
     "execution_count": 112,
     "metadata": {},
     "output_type": "execute_result"
    }
   ],
   "source": [
    "# fit model, yay! now what?\n",
    "numbers = np.arange(1, 101)\n",
    "x_test = np.transpose(binary_encode(numbers, num_digits))\n",
    "x_test[0:2]"
   ]
  },
  {
   "cell_type": "code",
   "execution_count": 114,
   "metadata": {},
   "outputs": [],
   "source": [
    "# neural net model usually has a variable name like \"model\" or \"network\"\n",
    "y_test = model.predict_classes(x_test)"
   ]
  },
  {
   "cell_type": "code",
   "execution_count": 120,
   "metadata": {},
   "outputs": [],
   "source": [
    "# function(argument)(another_set_of_arguments)\n",
    "# b/c vectorize is returning a function\n",
    "# predictions = np.vectorize(fizz_buzz)(numbers, y_test)\n",
    "vectorized_fizz_buzz = np.vectorize(fizz_buzz)\n",
    "predictions = vectorized_fizz_buzz(numbers, y_test)"
   ]
  },
  {
   "cell_type": "code",
   "execution_count": 121,
   "metadata": {},
   "outputs": [
    {
     "data": {
      "text/plain": [
       "array(['1', '2', 'fizz', '4', 'buzz', 'fizz', '7', '8', 'fizz', 'buzz',\n",
       "       '11', 'fizz', '13', '14', 'fizzbuzz', '16', '17', 'fizz', '19',\n",
       "       'buzz', 'fizz', '22', '23', '24', 'buzz', '26', 'fizz', '28', '29',\n",
       "       'fizzbuzz', '31', '32', 'fizz', '34', 'buzz', 'fizz', '37', '38',\n",
       "       'fizz', 'buzz', '41', 'fizz', '43', '44', 'fizzbuzz', '46', '47',\n",
       "       'fizz', '49', 'buzz', 'fizz', '52', '53', 'fizz', 'buzz', '56',\n",
       "       'fizz', '58', '59', '60', '61', '62', 'fizz', '64', 'buzz', 'fizz',\n",
       "       '67', '68', 'fizz', 'buzz', '71', 'fizz', '73', '74', 'fizzbuzz',\n",
       "       '76', '77', 'fizz', '79', 'buzz', 'fizz', '82', '83', 'fizz',\n",
       "       'buzz', '86', 'fizz', '88', '89', 'fizzbuzz', '91', '92', 'fizz',\n",
       "       '94', 'buzz', 'fizz', '97', '98', 'fizz', 'buzz'], dtype='<U8')"
      ]
     },
     "execution_count": 121,
     "metadata": {},
     "output_type": "execute_result"
    }
   ],
   "source": [
    "predictions"
   ]
  },
  {
   "cell_type": "code",
   "execution_count": 117,
   "metadata": {},
   "outputs": [
    {
     "name": "stdout",
     "output_type": "stream",
     "text": [
      "['1' '2' 'fizz' '4' 'buzz' 'fizz' '7' '8' 'fizz' 'buzz' '11' 'fizz' '13'\n",
      " '14' 'fizzbuzz' '16' '17' 'fizz' '19' 'buzz' 'fizz' '22' '23' 'fizz'\n",
      " 'buzz' '26' 'fizz' '28' '29' 'fizzbuzz' '31' '32' 'fizz' '34' 'buzz'\n",
      " 'fizz' '37' '38' 'fizz' 'buzz' '41' 'fizz' '43' '44' 'fizzbuzz' '46' '47'\n",
      " 'fizz' '49' 'buzz' 'fizz' '52' '53' 'fizz' 'buzz' '56' 'fizz' '58' '59'\n",
      " 'fizzbuzz' '61' '62' 'fizz' '64' 'buzz' 'fizz' '67' '68' 'fizz' 'buzz'\n",
      " '71' 'fizz' '73' '74' 'fizzbuzz' '76' '77' 'fizz' '79' 'buzz' 'fizz' '82'\n",
      " '83' 'fizz' 'buzz' '86' 'fizz' '88' '89' 'fizzbuzz' '91' '92' 'fizz' '94'\n",
      " 'buzz' 'fizz' '97' '98' 'fizz' 'buzz']\n"
     ]
    }
   ],
   "source": [
    "# correct answers for fizzbuzz on 1-100, these are our actual values\n",
    "answer = np.array([])\n",
    "for i in numbers:\n",
    "    if i % 15 == 0: \n",
    "        answer = np.append(answer, \"fizzbuzz\")\n",
    "    elif i % 5 == 0: \n",
    "        answer = np.append(answer, \"buzz\")\n",
    "    elif i % 3 == 0: \n",
    "        answer = np.append(answer, \"fizz\")\n",
    "    else: answer = np.append(answer, str(i))\n",
    "print (answer)"
   ]
  },
  {
   "cell_type": "code",
   "execution_count": 118,
   "metadata": {},
   "outputs": [
    {
     "name": "stdout",
     "output_type": "stream",
     "text": [
      "0.98\n"
     ]
    }
   ],
   "source": [
    "# Let's evaluate the model's predictions\n",
    "evaluate = np.array(answer == predictions)\n",
    "print(np.count_nonzero(evaluate == True) / 100)"
   ]
  },
  {
   "cell_type": "code",
   "execution_count": null,
   "metadata": {},
   "outputs": [],
   "source": []
  }
 ],
 "metadata": {
  "kernelspec": {
   "display_name": "Python 3",
   "language": "python",
   "name": "python3"
  },
  "language_info": {
   "codemirror_mode": {
    "name": "ipython",
    "version": 3
   },
   "file_extension": ".py",
   "mimetype": "text/x-python",
   "name": "python",
   "nbconvert_exporter": "python",
   "pygments_lexer": "ipython3",
   "version": "3.7.3"
  }
 },
 "nbformat": 4,
 "nbformat_minor": 4
}
